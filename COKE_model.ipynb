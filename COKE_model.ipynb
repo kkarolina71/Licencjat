{
 "cells": [
  {
   "cell_type": "markdown",
   "id": "d8e4d4e1",
   "metadata": {},
   "source": [
    "**MSFT** - Microsoft Corporation \\\n",
    "**TSLA** - Tesla \\\n",
    "**COKE** - Coca-Cola Consolidated, Inc.  \\\n",
    "**INTC** - Intel Corporation  "
   ]
  },
  {
   "cell_type": "code",
   "execution_count": 2,
   "id": "1913eeec",
   "metadata": {},
   "outputs": [],
   "source": [
    "# Import libraries\n",
    "import os\n",
    "import sys\n",
    "import requests\n",
    "\n",
    "import numpy as np\n",
    "import pandas as pd\n",
    "import matplotlib.pyplot as plt\n",
    "%matplotlib inline\n",
    "from matplotlib.dates import DateFormatter\n",
    "\n",
    "from sklearn.ensemble import RandomForestClassifier\n",
    "from sklearn.model_selection import train_test_split\n",
    "from sklearn.model_selection import RandomizedSearchCV\n",
    "# from sklearn.metrics import plot_roc_curve\n",
    "from sklearn.metrics import accuracy_score, classification_report\n",
    "from sklearn.metrics import mean_squared_error"
   ]
  },
  {
   "cell_type": "markdown",
   "id": "d623da24",
   "metadata": {},
   "source": [
    "# COKE"
   ]
  },
  {
   "cell_type": "code",
   "execution_count": 5,
   "id": "19e4fd49",
   "metadata": {},
   "outputs": [],
   "source": [
    "price_data = pd.read_csv(\"COKE.csv\")"
   ]
  },
  {
   "cell_type": "code",
   "execution_count": 6,
   "id": "8de54429",
   "metadata": {},
   "outputs": [
    {
     "data": {
      "text/plain": [
       "(1243, 25)"
      ]
     },
     "execution_count": 6,
     "metadata": {},
     "output_type": "execute_result"
    }
   ],
   "source": [
    "price_data.shape"
   ]
  },
  {
   "cell_type": "code",
   "execution_count": 7,
   "id": "00c8a266",
   "metadata": {},
   "outputs": [],
   "source": [
    "price_data.loc[price_data['Target'] == 0.0] = 1.0"
   ]
  },
  {
   "cell_type": "code",
   "execution_count": 9,
   "id": "87d1e303",
   "metadata": {},
   "outputs": [],
   "source": [
    "# Grab X & Y Columns\n",
    "X_Cols = price_data[['RSI','r_percent','ROC','MACD']]\n",
    "Y_Cols = price_data['Target']"
   ]
  },
  {
   "cell_type": "code",
   "execution_count": 10,
   "id": "d6c771d5",
   "metadata": {},
   "outputs": [
    {
     "data": {
      "text/html": [
       "<div>\n",
       "<style scoped>\n",
       "    .dataframe tbody tr th:only-of-type {\n",
       "        vertical-align: middle;\n",
       "    }\n",
       "\n",
       "    .dataframe tbody tr th {\n",
       "        vertical-align: top;\n",
       "    }\n",
       "\n",
       "    .dataframe thead th {\n",
       "        text-align: right;\n",
       "    }\n",
       "</style>\n",
       "<table border=\"1\" class=\"dataframe\">\n",
       "  <thead>\n",
       "    <tr style=\"text-align: right;\">\n",
       "      <th></th>\n",
       "      <th>RSI</th>\n",
       "      <th>r_percent</th>\n",
       "      <th>ROC</th>\n",
       "      <th>MACD</th>\n",
       "    </tr>\n",
       "  </thead>\n",
       "  <tbody>\n",
       "    <tr>\n",
       "      <th>count</th>\n",
       "      <td>1243.000000</td>\n",
       "      <td>1243.000000</td>\n",
       "      <td>1243.000000</td>\n",
       "      <td>1243.000000</td>\n",
       "    </tr>\n",
       "    <tr>\n",
       "      <th>mean</th>\n",
       "      <td>53.293590</td>\n",
       "      <td>-46.796794</td>\n",
       "      <td>0.011680</td>\n",
       "      <td>1.422082</td>\n",
       "    </tr>\n",
       "    <tr>\n",
       "      <th>std</th>\n",
       "      <td>19.102157</td>\n",
       "      <td>30.917120</td>\n",
       "      <td>0.084444</td>\n",
       "      <td>6.709661</td>\n",
       "    </tr>\n",
       "    <tr>\n",
       "      <th>min</th>\n",
       "      <td>1.000000</td>\n",
       "      <td>-100.000000</td>\n",
       "      <td>-0.301164</td>\n",
       "      <td>-19.968188</td>\n",
       "    </tr>\n",
       "    <tr>\n",
       "      <th>25%</th>\n",
       "      <td>40.689452</td>\n",
       "      <td>-75.674064</td>\n",
       "      <td>-0.027512</td>\n",
       "      <td>-2.637962</td>\n",
       "    </tr>\n",
       "    <tr>\n",
       "      <th>50%</th>\n",
       "      <td>52.788734</td>\n",
       "      <td>-45.065541</td>\n",
       "      <td>0.007092</td>\n",
       "      <td>0.907355</td>\n",
       "    </tr>\n",
       "    <tr>\n",
       "      <th>75%</th>\n",
       "      <td>66.959667</td>\n",
       "      <td>-17.578418</td>\n",
       "      <td>0.043427</td>\n",
       "      <td>4.898928</td>\n",
       "    </tr>\n",
       "    <tr>\n",
       "      <th>max</th>\n",
       "      <td>99.227415</td>\n",
       "      <td>1.000000</td>\n",
       "      <td>1.000000</td>\n",
       "      <td>35.501855</td>\n",
       "    </tr>\n",
       "  </tbody>\n",
       "</table>\n",
       "</div>"
      ],
      "text/plain": [
       "               RSI    r_percent          ROC         MACD\n",
       "count  1243.000000  1243.000000  1243.000000  1243.000000\n",
       "mean     53.293590   -46.796794     0.011680     1.422082\n",
       "std      19.102157    30.917120     0.084444     6.709661\n",
       "min       1.000000  -100.000000    -0.301164   -19.968188\n",
       "25%      40.689452   -75.674064    -0.027512    -2.637962\n",
       "50%      52.788734   -45.065541     0.007092     0.907355\n",
       "75%      66.959667   -17.578418     0.043427     4.898928\n",
       "max      99.227415     1.000000     1.000000    35.501855"
      ]
     },
     "execution_count": 10,
     "metadata": {},
     "output_type": "execute_result"
    }
   ],
   "source": [
    "X_Cols.describe()"
   ]
  },
  {
   "cell_type": "code",
   "execution_count": 11,
   "id": "8ff6db02",
   "metadata": {},
   "outputs": [
    {
     "data": {
      "text/plain": [
       "Target\n",
       " 1.0    647\n",
       "-1.0    596\n",
       "Name: count, dtype: int64"
      ]
     },
     "execution_count": 11,
     "metadata": {},
     "output_type": "execute_result"
    }
   ],
   "source": [
    "Y_Cols.value_counts()"
   ]
  },
  {
   "cell_type": "code",
   "execution_count": 12,
   "id": "05f34fe7",
   "metadata": {},
   "outputs": [],
   "source": [
    "# Split X and y into train and test\n",
    "X_train, X_test, y_train, y_test = train_test_split(X_Cols, Y_Cols, train_size = 0.65)"
   ]
  },
  {
   "cell_type": "code",
   "execution_count": 13,
   "id": "ea9b750e",
   "metadata": {},
   "outputs": [],
   "source": [
    "# Create a Random Forest Classifier\n",
    "rand_frst_clf = RandomForestClassifier(n_estimators = 100, oob_score = True, criterion = \"gini\", random_state = 0)\n",
    "\n",
    "# Fit the data to the model\n",
    "rand_frst_clf.fit(X_train, y_train)\n",
    "\n",
    "# Make predictions\n",
    "y_pred = rand_frst_clf.predict(X_test)"
   ]
  },
  {
   "cell_type": "code",
   "execution_count": 14,
   "id": "5418d0f6",
   "metadata": {},
   "outputs": [
    {
     "name": "stdout",
     "output_type": "stream",
     "text": [
      "Correct Prediction (%):  69.72477064220183\n"
     ]
    }
   ],
   "source": [
    "# Print the Accuracy of our Model.\n",
    "print('Correct Prediction (%): ', accuracy_score(y_test, y_pred, normalize = True) * 100.0)"
   ]
  },
  {
   "cell_type": "code",
   "execution_count": 15,
   "id": "811492a3",
   "metadata": {},
   "outputs": [
    {
     "data": {
      "text/plain": [
       "1.2110091743119267"
      ]
     },
     "execution_count": 15,
     "metadata": {},
     "output_type": "execute_result"
    }
   ],
   "source": [
    "mean_squared_error(y_test, y_pred)"
   ]
  },
  {
   "cell_type": "markdown",
   "id": "f0f33671",
   "metadata": {},
   "source": [
    "## SVM"
   ]
  },
  {
   "cell_type": "code",
   "execution_count": 16,
   "id": "60071dd4",
   "metadata": {},
   "outputs": [
    {
     "data": {
      "text/html": [
       "<style>#sk-container-id-1 {color: black;background-color: white;}#sk-container-id-1 pre{padding: 0;}#sk-container-id-1 div.sk-toggleable {background-color: white;}#sk-container-id-1 label.sk-toggleable__label {cursor: pointer;display: block;width: 100%;margin-bottom: 0;padding: 0.3em;box-sizing: border-box;text-align: center;}#sk-container-id-1 label.sk-toggleable__label-arrow:before {content: \"▸\";float: left;margin-right: 0.25em;color: #696969;}#sk-container-id-1 label.sk-toggleable__label-arrow:hover:before {color: black;}#sk-container-id-1 div.sk-estimator:hover label.sk-toggleable__label-arrow:before {color: black;}#sk-container-id-1 div.sk-toggleable__content {max-height: 0;max-width: 0;overflow: hidden;text-align: left;background-color: #f0f8ff;}#sk-container-id-1 div.sk-toggleable__content pre {margin: 0.2em;color: black;border-radius: 0.25em;background-color: #f0f8ff;}#sk-container-id-1 input.sk-toggleable__control:checked~div.sk-toggleable__content {max-height: 200px;max-width: 100%;overflow: auto;}#sk-container-id-1 input.sk-toggleable__control:checked~label.sk-toggleable__label-arrow:before {content: \"▾\";}#sk-container-id-1 div.sk-estimator input.sk-toggleable__control:checked~label.sk-toggleable__label {background-color: #d4ebff;}#sk-container-id-1 div.sk-label input.sk-toggleable__control:checked~label.sk-toggleable__label {background-color: #d4ebff;}#sk-container-id-1 input.sk-hidden--visually {border: 0;clip: rect(1px 1px 1px 1px);clip: rect(1px, 1px, 1px, 1px);height: 1px;margin: -1px;overflow: hidden;padding: 0;position: absolute;width: 1px;}#sk-container-id-1 div.sk-estimator {font-family: monospace;background-color: #f0f8ff;border: 1px dotted black;border-radius: 0.25em;box-sizing: border-box;margin-bottom: 0.5em;}#sk-container-id-1 div.sk-estimator:hover {background-color: #d4ebff;}#sk-container-id-1 div.sk-parallel-item::after {content: \"\";width: 100%;border-bottom: 1px solid gray;flex-grow: 1;}#sk-container-id-1 div.sk-label:hover label.sk-toggleable__label {background-color: #d4ebff;}#sk-container-id-1 div.sk-serial::before {content: \"\";position: absolute;border-left: 1px solid gray;box-sizing: border-box;top: 0;bottom: 0;left: 50%;z-index: 0;}#sk-container-id-1 div.sk-serial {display: flex;flex-direction: column;align-items: center;background-color: white;padding-right: 0.2em;padding-left: 0.2em;position: relative;}#sk-container-id-1 div.sk-item {position: relative;z-index: 1;}#sk-container-id-1 div.sk-parallel {display: flex;align-items: stretch;justify-content: center;background-color: white;position: relative;}#sk-container-id-1 div.sk-item::before, #sk-container-id-1 div.sk-parallel-item::before {content: \"\";position: absolute;border-left: 1px solid gray;box-sizing: border-box;top: 0;bottom: 0;left: 50%;z-index: -1;}#sk-container-id-1 div.sk-parallel-item {display: flex;flex-direction: column;z-index: 1;position: relative;background-color: white;}#sk-container-id-1 div.sk-parallel-item:first-child::after {align-self: flex-end;width: 50%;}#sk-container-id-1 div.sk-parallel-item:last-child::after {align-self: flex-start;width: 50%;}#sk-container-id-1 div.sk-parallel-item:only-child::after {width: 0;}#sk-container-id-1 div.sk-dashed-wrapped {border: 1px dashed gray;margin: 0 0.4em 0.5em 0.4em;box-sizing: border-box;padding-bottom: 0.4em;background-color: white;}#sk-container-id-1 div.sk-label label {font-family: monospace;font-weight: bold;display: inline-block;line-height: 1.2em;}#sk-container-id-1 div.sk-label-container {text-align: center;}#sk-container-id-1 div.sk-container {/* jupyter's `normalize.less` sets `[hidden] { display: none; }` but bootstrap.min.css set `[hidden] { display: none !important; }` so we also need the `!important` here to be able to override the default hidden behavior on the sphinx rendered scikit-learn.org. See: https://github.com/scikit-learn/scikit-learn/issues/21755 */display: inline-block !important;position: relative;}#sk-container-id-1 div.sk-text-repr-fallback {display: none;}</style><div id=\"sk-container-id-1\" class=\"sk-top-container\"><div class=\"sk-text-repr-fallback\"><pre>SVC()</pre><b>In a Jupyter environment, please rerun this cell to show the HTML representation or trust the notebook. <br />On GitHub, the HTML representation is unable to render, please try loading this page with nbviewer.org.</b></div><div class=\"sk-container\" hidden><div class=\"sk-item\"><div class=\"sk-estimator sk-toggleable\"><input class=\"sk-toggleable__control sk-hidden--visually\" id=\"sk-estimator-id-1\" type=\"checkbox\" checked><label for=\"sk-estimator-id-1\" class=\"sk-toggleable__label sk-toggleable__label-arrow\">SVC</label><div class=\"sk-toggleable__content\"><pre>SVC()</pre></div></div></div></div></div>"
      ],
      "text/plain": [
       "SVC()"
      ]
     },
     "execution_count": 16,
     "metadata": {},
     "output_type": "execute_result"
    }
   ],
   "source": [
    "from sklearn import svm\n",
    "\n",
    "svm_clf = svm.SVC()\n",
    "\n",
    "svm_clf.fit(X_train, y_train)"
   ]
  },
  {
   "cell_type": "code",
   "execution_count": 17,
   "id": "bc562d92",
   "metadata": {},
   "outputs": [],
   "source": [
    "y_pred = svm_clf.predict(X_test)"
   ]
  },
  {
   "cell_type": "code",
   "execution_count": 18,
   "id": "de5e336c",
   "metadata": {},
   "outputs": [
    {
     "name": "stdout",
     "output_type": "stream",
     "text": [
      "Correct Prediction (%):  68.34862385321101\n"
     ]
    }
   ],
   "source": [
    "print('Correct Prediction (%): ', accuracy_score(y_test, y_pred, normalize = True) * 100.0)"
   ]
  },
  {
   "cell_type": "code",
   "execution_count": 19,
   "id": "bb547d7a",
   "metadata": {},
   "outputs": [
    {
     "data": {
      "text/plain": [
       "1.2660550458715596"
      ]
     },
     "execution_count": 19,
     "metadata": {},
     "output_type": "execute_result"
    }
   ],
   "source": [
    "mean_squared_error(y_test, y_pred)"
   ]
  },
  {
   "cell_type": "markdown",
   "id": "732f0fba",
   "metadata": {},
   "source": [
    "## KNN"
   ]
  },
  {
   "cell_type": "code",
   "execution_count": 20,
   "id": "47a87e9b",
   "metadata": {},
   "outputs": [
    {
     "data": {
      "text/html": [
       "<style>#sk-container-id-2 {color: black;background-color: white;}#sk-container-id-2 pre{padding: 0;}#sk-container-id-2 div.sk-toggleable {background-color: white;}#sk-container-id-2 label.sk-toggleable__label {cursor: pointer;display: block;width: 100%;margin-bottom: 0;padding: 0.3em;box-sizing: border-box;text-align: center;}#sk-container-id-2 label.sk-toggleable__label-arrow:before {content: \"▸\";float: left;margin-right: 0.25em;color: #696969;}#sk-container-id-2 label.sk-toggleable__label-arrow:hover:before {color: black;}#sk-container-id-2 div.sk-estimator:hover label.sk-toggleable__label-arrow:before {color: black;}#sk-container-id-2 div.sk-toggleable__content {max-height: 0;max-width: 0;overflow: hidden;text-align: left;background-color: #f0f8ff;}#sk-container-id-2 div.sk-toggleable__content pre {margin: 0.2em;color: black;border-radius: 0.25em;background-color: #f0f8ff;}#sk-container-id-2 input.sk-toggleable__control:checked~div.sk-toggleable__content {max-height: 200px;max-width: 100%;overflow: auto;}#sk-container-id-2 input.sk-toggleable__control:checked~label.sk-toggleable__label-arrow:before {content: \"▾\";}#sk-container-id-2 div.sk-estimator input.sk-toggleable__control:checked~label.sk-toggleable__label {background-color: #d4ebff;}#sk-container-id-2 div.sk-label input.sk-toggleable__control:checked~label.sk-toggleable__label {background-color: #d4ebff;}#sk-container-id-2 input.sk-hidden--visually {border: 0;clip: rect(1px 1px 1px 1px);clip: rect(1px, 1px, 1px, 1px);height: 1px;margin: -1px;overflow: hidden;padding: 0;position: absolute;width: 1px;}#sk-container-id-2 div.sk-estimator {font-family: monospace;background-color: #f0f8ff;border: 1px dotted black;border-radius: 0.25em;box-sizing: border-box;margin-bottom: 0.5em;}#sk-container-id-2 div.sk-estimator:hover {background-color: #d4ebff;}#sk-container-id-2 div.sk-parallel-item::after {content: \"\";width: 100%;border-bottom: 1px solid gray;flex-grow: 1;}#sk-container-id-2 div.sk-label:hover label.sk-toggleable__label {background-color: #d4ebff;}#sk-container-id-2 div.sk-serial::before {content: \"\";position: absolute;border-left: 1px solid gray;box-sizing: border-box;top: 0;bottom: 0;left: 50%;z-index: 0;}#sk-container-id-2 div.sk-serial {display: flex;flex-direction: column;align-items: center;background-color: white;padding-right: 0.2em;padding-left: 0.2em;position: relative;}#sk-container-id-2 div.sk-item {position: relative;z-index: 1;}#sk-container-id-2 div.sk-parallel {display: flex;align-items: stretch;justify-content: center;background-color: white;position: relative;}#sk-container-id-2 div.sk-item::before, #sk-container-id-2 div.sk-parallel-item::before {content: \"\";position: absolute;border-left: 1px solid gray;box-sizing: border-box;top: 0;bottom: 0;left: 50%;z-index: -1;}#sk-container-id-2 div.sk-parallel-item {display: flex;flex-direction: column;z-index: 1;position: relative;background-color: white;}#sk-container-id-2 div.sk-parallel-item:first-child::after {align-self: flex-end;width: 50%;}#sk-container-id-2 div.sk-parallel-item:last-child::after {align-self: flex-start;width: 50%;}#sk-container-id-2 div.sk-parallel-item:only-child::after {width: 0;}#sk-container-id-2 div.sk-dashed-wrapped {border: 1px dashed gray;margin: 0 0.4em 0.5em 0.4em;box-sizing: border-box;padding-bottom: 0.4em;background-color: white;}#sk-container-id-2 div.sk-label label {font-family: monospace;font-weight: bold;display: inline-block;line-height: 1.2em;}#sk-container-id-2 div.sk-label-container {text-align: center;}#sk-container-id-2 div.sk-container {/* jupyter's `normalize.less` sets `[hidden] { display: none; }` but bootstrap.min.css set `[hidden] { display: none !important; }` so we also need the `!important` here to be able to override the default hidden behavior on the sphinx rendered scikit-learn.org. See: https://github.com/scikit-learn/scikit-learn/issues/21755 */display: inline-block !important;position: relative;}#sk-container-id-2 div.sk-text-repr-fallback {display: none;}</style><div id=\"sk-container-id-2\" class=\"sk-top-container\"><div class=\"sk-text-repr-fallback\"><pre>KNeighborsClassifier(n_neighbors=50)</pre><b>In a Jupyter environment, please rerun this cell to show the HTML representation or trust the notebook. <br />On GitHub, the HTML representation is unable to render, please try loading this page with nbviewer.org.</b></div><div class=\"sk-container\" hidden><div class=\"sk-item\"><div class=\"sk-estimator sk-toggleable\"><input class=\"sk-toggleable__control sk-hidden--visually\" id=\"sk-estimator-id-2\" type=\"checkbox\" checked><label for=\"sk-estimator-id-2\" class=\"sk-toggleable__label sk-toggleable__label-arrow\">KNeighborsClassifier</label><div class=\"sk-toggleable__content\"><pre>KNeighborsClassifier(n_neighbors=50)</pre></div></div></div></div></div>"
      ],
      "text/plain": [
       "KNeighborsClassifier(n_neighbors=50)"
      ]
     },
     "execution_count": 20,
     "metadata": {},
     "output_type": "execute_result"
    }
   ],
   "source": [
    "from sklearn.neighbors import KNeighborsClassifier\n",
    "\n",
    "classifier = KNeighborsClassifier(n_neighbors=50)\n",
    "classifier.fit(X_train, y_train)"
   ]
  },
  {
   "cell_type": "code",
   "execution_count": 21,
   "id": "ebc30206",
   "metadata": {},
   "outputs": [],
   "source": [
    "y_pred = classifier.predict(X_test)"
   ]
  },
  {
   "cell_type": "code",
   "execution_count": 22,
   "id": "58df837b",
   "metadata": {},
   "outputs": [
    {
     "name": "stdout",
     "output_type": "stream",
     "text": [
      "Correct Prediction (%):  72.47706422018348\n"
     ]
    }
   ],
   "source": [
    "print('Correct Prediction (%): ', accuracy_score(y_test, y_pred, normalize = True) * 100.0)"
   ]
  },
  {
   "cell_type": "code",
   "execution_count": 23,
   "id": "0d422408",
   "metadata": {},
   "outputs": [
    {
     "data": {
      "text/plain": [
       "1.1009174311926606"
      ]
     },
     "execution_count": 23,
     "metadata": {},
     "output_type": "execute_result"
    }
   ],
   "source": [
    "mean_squared_error(y_test, y_pred)"
   ]
  },
  {
   "cell_type": "markdown",
   "id": "6ef7aaf9",
   "metadata": {},
   "source": [
    "## Logistic Regression"
   ]
  },
  {
   "cell_type": "code",
   "execution_count": 24,
   "id": "f05b3094",
   "metadata": {},
   "outputs": [],
   "source": [
    "from sklearn.linear_model import LogisticRegression\n",
    "\n",
    "logreg = LogisticRegression()\n",
    "\n",
    "logreg.fit(X_train,y_train)\n",
    "\n",
    "y_pred=logreg.predict(X_test)"
   ]
  },
  {
   "cell_type": "code",
   "execution_count": 25,
   "id": "62245c8f",
   "metadata": {},
   "outputs": [
    {
     "name": "stdout",
     "output_type": "stream",
     "text": [
      "Correct Prediction (%):  66.74311926605505\n"
     ]
    }
   ],
   "source": [
    "print('Correct Prediction (%): ', accuracy_score(y_test, y_pred, normalize = True) * 100.0)"
   ]
  },
  {
   "cell_type": "code",
   "execution_count": 26,
   "id": "e5d3d1ef",
   "metadata": {},
   "outputs": [
    {
     "data": {
      "text/plain": [
       "1.3302752293577982"
      ]
     },
     "execution_count": 26,
     "metadata": {},
     "output_type": "execute_result"
    }
   ],
   "source": [
    "mean_squared_error(y_test, y_pred)"
   ]
  },
  {
   "cell_type": "markdown",
   "id": "feae415e",
   "metadata": {},
   "source": [
    "## StratifiedKFold"
   ]
  },
  {
   "cell_type": "code",
   "execution_count": 27,
   "id": "5085e0b2",
   "metadata": {},
   "outputs": [],
   "source": [
    "from sklearn.model_selection import StratifiedKFold, KFold\n",
    "\n",
    "# Powtórzyć kika razy i zapisać wyniki\n",
    "\n",
    "skf = StratifiedKFold(n_splits=5) # shuffle default = False \n",
    "log = []\n",
    "knn = []\n",
    "rfc = []\n",
    "svm = []\n",
    "\n",
    "for train_index, test_index in skf.split(X_Cols, Y_Cols):\n",
    "   # print(\"TRAIN:\", train_index, \"TEST:\", test_index)\n",
    "    X_train, X_test = X_Cols.iloc[train_index], X_Cols.iloc[test_index]\n",
    "    y_train, y_test = Y_Cols.iloc[train_index], Y_Cols.iloc[test_index]\n",
    "    # random forest\n",
    "    rand_frst_clf.fit(X_train, y_train)\n",
    "    rfc.append(rand_frst_clf.score(X_test, y_test))\n",
    "    # svm\n",
    "    svm_clf.fit(X_train, y_train)\n",
    "    svm.append(svm_clf.score(X_test, y_test))\n",
    "    # knn\n",
    "    classifier.fit(X_train, y_train)\n",
    "    knn.append(classifier.score(X_test, y_test))\n",
    "    # logistic regression\n",
    "    logreg.fit(X_train, y_train)\n",
    "    log.append(logreg.score(X_test, y_test))"
   ]
  },
  {
   "cell_type": "code",
   "execution_count": 28,
   "id": "fb021caf",
   "metadata": {},
   "outputs": [
    {
     "name": "stdout",
     "output_type": "stream",
     "text": [
      "\n",
      "Random Forest: [0.6626506024096386, 0.6666666666666666, 0.6907630522088354, 0.6290322580645161, 0.6532258064516129]\n",
      "Maximum Accuracy That can be obtained from this model is: 69.07630522088354 %\n",
      "Minimum Accuracy: 62.903225806451616 %\n",
      "\n",
      "SVM: [0.6626506024096386, 0.6666666666666666, 0.7630522088353414, 0.6612903225806451, 0.657258064516129]\n",
      "Maximum Accuracy That can be obtained from this model is: 76.30522088353415 %\n",
      "Minimum Accuracy: 65.7258064516129 %\n",
      "\n",
      "KNN: [0.6746987951807228, 0.6947791164658634, 0.7550200803212851, 0.625, 0.6895161290322581]\n",
      "Maximum Accuracy That can be obtained from this model is: 75.50200803212851 %\n",
      "Minimum Accuracy: 62.5 %\n",
      "\n",
      "Logistic regression: [0.6345381526104418, 0.642570281124498, 0.7309236947791165, 0.6653225806451613, 0.6411290322580645]\n",
      "Maximum Accuracy: 73.09236947791165 %\n",
      "Minimum Accuracy: 63.45381526104418 %\n"
     ]
    }
   ],
   "source": [
    "print('\\nRandom Forest:', rfc)\n",
    "print('Maximum Accuracy That can be obtained from this model is:',\n",
    "      max(rfc)*100, '%')\n",
    "print('Minimum Accuracy:',\n",
    "      min(rfc)*100, '%')\n",
    "#\n",
    "print('\\nSVM:', svm)\n",
    "print('Maximum Accuracy That can be obtained from this model is:',\n",
    "      max(svm)*100, '%')\n",
    "print('Minimum Accuracy:',\n",
    "      min(svm)*100, '%')\n",
    "#\n",
    "print('\\nKNN:', knn)\n",
    "print('Maximum Accuracy That can be obtained from this model is:',\n",
    "      max(knn)*100, '%')\n",
    "print('Minimum Accuracy:',\n",
    "      min(knn)*100, '%')\n",
    "#\n",
    "print('\\nLogistic regression:', log)\n",
    "print('Maximum Accuracy:',\n",
    "      max(log)*100, '%')\n",
    "print('Minimum Accuracy:',\n",
    "      min(log)*100, '%')"
   ]
  },
  {
   "cell_type": "code",
   "execution_count": 29,
   "id": "11b1180b",
   "metadata": {},
   "outputs": [],
   "source": [
    "y_pred_rf=rand_frst_clf.predict(X_test)\n",
    "y_pred_svm=svm_clf.predict(X_test)\n",
    "y_pred_knn=classifier.predict(X_test)\n",
    "y_pred_log=logreg.predict(X_test)"
   ]
  },
  {
   "cell_type": "code",
   "execution_count": 30,
   "id": "65303f5c",
   "metadata": {},
   "outputs": [
    {
     "name": "stdout",
     "output_type": "stream",
     "text": [
      "RFC\n",
      "0.6532258064516129\n",
      "SVM\n",
      "0.657258064516129\n",
      "KNN\n",
      "0.6895161290322581\n",
      "Log\n",
      "0.6411290322580645\n"
     ]
    }
   ],
   "source": [
    "from sklearn import metrics\n",
    "print(\"RFC\")\n",
    "print(metrics.accuracy_score(y_test, y_pred_rf))\n",
    "print(\"SVM\")\n",
    "print(metrics.accuracy_score(y_test, y_pred_svm))\n",
    "print(\"KNN\")\n",
    "print(metrics.accuracy_score(y_test, y_pred_knn))\n",
    "print(\"Log\")\n",
    "print(metrics.accuracy_score(y_test, y_pred_log))"
   ]
  },
  {
   "cell_type": "markdown",
   "id": "93d9048f",
   "metadata": {},
   "source": [
    "## Hyperparameter"
   ]
  },
  {
   "cell_type": "markdown",
   "id": "5d797740",
   "metadata": {},
   "source": [
    "## KNN"
   ]
  },
  {
   "cell_type": "code",
   "execution_count": null,
   "id": "5696fc3c",
   "metadata": {},
   "outputs": [
    {
     "name": "stdout",
     "output_type": "stream",
     "text": [
      "Fitting 6 folds for each of 1 candidates, totalling 6 fits\n"
     ]
    }
   ],
   "source": [
    "from sklearn.model_selection import RepeatedStratifiedKFold\n",
    "from sklearn.model_selection import cross_val_score\n",
    "from skopt import BayesSearchCV\n",
    "from tqdm import tqdm\n",
    "from sklearn.neighbors import KNeighborsClassifier\n",
    "\n",
    "# Split X and y into train and test\n",
    "#X_train, X_test, y_train, y_test = train_test_split(X_Cols, Y_Cols, train_size = 0.65)\n",
    "\n",
    "# KNN\n",
    "metrics = ['euclidean','manhattan'] \n",
    "#n_neighbors = list(range(100, 150))\n",
    "n_neighbors = list(range(100, 500, 50))\n",
    "p = [2,4,6]\n",
    "weights = ['uniform', 'distance']\n",
    "\n",
    "random_grid_knn = {'metrics': metrics,\n",
    "                   'n_neighbors': n_neighbors,\n",
    "                   'p': p,\n",
    "                   'weights': weights}\n",
    "\n",
    "# define evaluation\n",
    "cv_knn = RepeatedStratifiedKFold(n_splits=3, n_repeats=2)\n",
    "# define the search\n",
    "search_knn = BayesSearchCV(estimator= KNeighborsClassifier(), search_spaces=random_grid_knn, n_jobs=-1, cv=cv_knn, verbose = 100)\n",
    "# perform the search\n",
    "search_knn.fit(X_train, y_train)\n",
    "# report the best result\n",
    "print(search_knn.best_score_)\n",
    "print(search_knn.best_params_)"
   ]
  },
  {
   "cell_type": "code",
   "execution_count": 10,
   "id": "58e257f4",
   "metadata": {},
   "outputs": [
    {
     "data": {
      "text/plain": [
       "dict_keys(['algorithm', 'leaf_size', 'metric', 'metric_params', 'n_jobs', 'n_neighbors', 'p', 'weights'])"
      ]
     },
     "execution_count": 10,
     "metadata": {},
     "output_type": "execute_result"
    }
   ],
   "source": [
    "estimator= KNeighborsClassifier()\n",
    "estimator.get_params().keys()"
   ]
  },
  {
   "cell_type": "markdown",
   "id": "febe78b4",
   "metadata": {},
   "source": [
    "## SVM"
   ]
  },
  {
   "cell_type": "code",
   "execution_count": 8,
   "id": "7a394aa7",
   "metadata": {
    "scrolled": true
   },
   "outputs": [
    {
     "name": "stderr",
     "output_type": "stream",
     "text": [
      "\r\n",
      "  0%|                                                                                            | 0/3 [00:00<?, ?it/s]"
     ]
    },
    {
     "name": "stdout",
     "output_type": "stream",
     "text": [
      "Fitting 15 folds for each of 1 candidates, totalling 15 fits\n",
      "Fitting 15 folds for each of 1 candidates, totalling 15 fits\n",
      "Fitting 15 folds for each of 1 candidates, totalling 15 fits\n",
      "Fitting 15 folds for each of 1 candidates, totalling 15 fits\n",
      "Fitting 15 folds for each of 1 candidates, totalling 15 fits\n",
      "Fitting 15 folds for each of 1 candidates, totalling 15 fits\n",
      "Fitting 15 folds for each of 1 candidates, totalling 15 fits\n",
      "Fitting 15 folds for each of 1 candidates, totalling 15 fits\n",
      "Fitting 15 folds for each of 1 candidates, totalling 15 fits\n",
      "Fitting 15 folds for each of 1 candidates, totalling 15 fits\n",
      "Fitting 15 folds for each of 1 candidates, totalling 15 fits\n",
      "Fitting 15 folds for each of 1 candidates, totalling 15 fits\n",
      "Fitting 15 folds for each of 1 candidates, totalling 15 fits\n",
      "Fitting 15 folds for each of 1 candidates, totalling 15 fits\n",
      "Fitting 15 folds for each of 1 candidates, totalling 15 fits\n",
      "Fitting 15 folds for each of 1 candidates, totalling 15 fits\n",
      "Fitting 15 folds for each of 1 candidates, totalling 15 fits\n"
     ]
    },
    {
     "name": "stderr",
     "output_type": "stream",
     "text": [
      "C:\\Users\\Karolina\\.conda\\envs\\Licencjat\\Lib\\site-packages\\skopt\\optimizer\\optimizer.py:449: UserWarning: The objective has been evaluated at this point before.\n",
      "  warnings.warn(\"The objective has been evaluated \"\n"
     ]
    },
    {
     "name": "stdout",
     "output_type": "stream",
     "text": [
      "Fitting 15 folds for each of 1 candidates, totalling 15 fits\n",
      "Fitting 15 folds for each of 1 candidates, totalling 15 fits\n",
      "Fitting 15 folds for each of 1 candidates, totalling 15 fits\n",
      "Fitting 15 folds for each of 1 candidates, totalling 15 fits\n",
      "Fitting 15 folds for each of 1 candidates, totalling 15 fits\n",
      "Fitting 15 folds for each of 1 candidates, totalling 15 fits\n",
      "Fitting 15 folds for each of 1 candidates, totalling 15 fits\n",
      "Fitting 15 folds for each of 1 candidates, totalling 15 fits\n"
     ]
    },
    {
     "name": "stderr",
     "output_type": "stream",
     "text": [
      "C:\\Users\\Karolina\\.conda\\envs\\Licencjat\\Lib\\site-packages\\skopt\\optimizer\\optimizer.py:449: UserWarning: The objective has been evaluated at this point before.\n",
      "  warnings.warn(\"The objective has been evaluated \"\n"
     ]
    },
    {
     "name": "stdout",
     "output_type": "stream",
     "text": [
      "Fitting 15 folds for each of 1 candidates, totalling 15 fits\n",
      "Fitting 15 folds for each of 1 candidates, totalling 15 fits\n"
     ]
    },
    {
     "name": "stderr",
     "output_type": "stream",
     "text": [
      "C:\\Users\\Karolina\\.conda\\envs\\Licencjat\\Lib\\site-packages\\skopt\\optimizer\\optimizer.py:449: UserWarning: The objective has been evaluated at this point before.\n",
      "  warnings.warn(\"The objective has been evaluated \"\n"
     ]
    },
    {
     "name": "stdout",
     "output_type": "stream",
     "text": [
      "Fitting 15 folds for each of 1 candidates, totalling 15 fits\n",
      "Fitting 15 folds for each of 1 candidates, totalling 15 fits\n",
      "Fitting 15 folds for each of 1 candidates, totalling 15 fits\n",
      "Fitting 15 folds for each of 1 candidates, totalling 15 fits\n",
      "Fitting 15 folds for each of 1 candidates, totalling 15 fits\n",
      "Fitting 15 folds for each of 1 candidates, totalling 15 fits\n",
      "Fitting 15 folds for each of 1 candidates, totalling 15 fits\n",
      "Fitting 15 folds for each of 1 candidates, totalling 15 fits\n",
      "Fitting 15 folds for each of 1 candidates, totalling 15 fits\n"
     ]
    },
    {
     "name": "stderr",
     "output_type": "stream",
     "text": [
      "C:\\Users\\Karolina\\.conda\\envs\\Licencjat\\Lib\\site-packages\\skopt\\optimizer\\optimizer.py:449: UserWarning: The objective has been evaluated at this point before.\n",
      "  warnings.warn(\"The objective has been evaluated \"\n"
     ]
    },
    {
     "name": "stdout",
     "output_type": "stream",
     "text": [
      "Fitting 15 folds for each of 1 candidates, totalling 15 fits\n"
     ]
    },
    {
     "name": "stderr",
     "output_type": "stream",
     "text": [
      "C:\\Users\\Karolina\\.conda\\envs\\Licencjat\\Lib\\site-packages\\skopt\\optimizer\\optimizer.py:449: UserWarning: The objective has been evaluated at this point before.\n",
      "  warnings.warn(\"The objective has been evaluated \"\n"
     ]
    },
    {
     "name": "stdout",
     "output_type": "stream",
     "text": [
      "Fitting 15 folds for each of 1 candidates, totalling 15 fits\n"
     ]
    },
    {
     "name": "stderr",
     "output_type": "stream",
     "text": [
      "C:\\Users\\Karolina\\.conda\\envs\\Licencjat\\Lib\\site-packages\\skopt\\optimizer\\optimizer.py:449: UserWarning: The objective has been evaluated at this point before.\n",
      "  warnings.warn(\"The objective has been evaluated \"\n"
     ]
    },
    {
     "name": "stdout",
     "output_type": "stream",
     "text": [
      "Fitting 15 folds for each of 1 candidates, totalling 15 fits\n"
     ]
    },
    {
     "name": "stderr",
     "output_type": "stream",
     "text": [
      "C:\\Users\\Karolina\\.conda\\envs\\Licencjat\\Lib\\site-packages\\skopt\\optimizer\\optimizer.py:449: UserWarning: The objective has been evaluated at this point before.\n",
      "  warnings.warn(\"The objective has been evaluated \"\n"
     ]
    },
    {
     "name": "stdout",
     "output_type": "stream",
     "text": [
      "Fitting 15 folds for each of 1 candidates, totalling 15 fits\n",
      "Fitting 15 folds for each of 1 candidates, totalling 15 fits\n",
      "Fitting 15 folds for each of 1 candidates, totalling 15 fits\n",
      "Fitting 15 folds for each of 1 candidates, totalling 15 fits\n",
      "Fitting 15 folds for each of 1 candidates, totalling 15 fits\n",
      "Fitting 15 folds for each of 1 candidates, totalling 15 fits\n",
      "Fitting 15 folds for each of 1 candidates, totalling 15 fits\n",
      "Fitting 15 folds for each of 1 candidates, totalling 15 fits\n",
      "Fitting 15 folds for each of 1 candidates, totalling 15 fits\n",
      "Fitting 15 folds for each of 1 candidates, totalling 15 fits\n",
      "Fitting 15 folds for each of 1 candidates, totalling 15 fits\n"
     ]
    },
    {
     "name": "stderr",
     "output_type": "stream",
     "text": [
      "\r\n",
      " 33%|███████████████████████████▋                                                       | 1/3 [02:08<04:17, 128.78s/it]"
     ]
    },
    {
     "name": "stdout",
     "output_type": "stream",
     "text": [
      "0.5302814201364926\n",
      "OrderedDict([('C', 165.46537473341982), ('gamma', 'auto'), ('kernel', 'rbf')])\n",
      "Fitting 15 folds for each of 1 candidates, totalling 15 fits\n",
      "Fitting 15 folds for each of 1 candidates, totalling 15 fits\n",
      "Fitting 15 folds for each of 1 candidates, totalling 15 fits\n",
      "Fitting 15 folds for each of 1 candidates, totalling 15 fits\n",
      "Fitting 15 folds for each of 1 candidates, totalling 15 fits\n",
      "Fitting 15 folds for each of 1 candidates, totalling 15 fits\n",
      "Fitting 15 folds for each of 1 candidates, totalling 15 fits\n",
      "Fitting 15 folds for each of 1 candidates, totalling 15 fits\n",
      "Fitting 15 folds for each of 1 candidates, totalling 15 fits\n",
      "Fitting 15 folds for each of 1 candidates, totalling 15 fits\n",
      "Fitting 15 folds for each of 1 candidates, totalling 15 fits\n",
      "Fitting 15 folds for each of 1 candidates, totalling 15 fits\n",
      "Fitting 15 folds for each of 1 candidates, totalling 15 fits\n",
      "Fitting 15 folds for each of 1 candidates, totalling 15 fits\n",
      "Fitting 15 folds for each of 1 candidates, totalling 15 fits\n",
      "Fitting 15 folds for each of 1 candidates, totalling 15 fits\n",
      "Fitting 15 folds for each of 1 candidates, totalling 15 fits\n",
      "Fitting 15 folds for each of 1 candidates, totalling 15 fits\n",
      "Fitting 15 folds for each of 1 candidates, totalling 15 fits\n",
      "Fitting 15 folds for each of 1 candidates, totalling 15 fits\n"
     ]
    },
    {
     "name": "stderr",
     "output_type": "stream",
     "text": [
      "C:\\Users\\Karolina\\.conda\\envs\\Licencjat\\Lib\\site-packages\\skopt\\optimizer\\optimizer.py:449: UserWarning: The objective has been evaluated at this point before.\n",
      "  warnings.warn(\"The objective has been evaluated \"\n"
     ]
    },
    {
     "name": "stdout",
     "output_type": "stream",
     "text": [
      "Fitting 15 folds for each of 1 candidates, totalling 15 fits\n"
     ]
    },
    {
     "name": "stderr",
     "output_type": "stream",
     "text": [
      "C:\\Users\\Karolina\\.conda\\envs\\Licencjat\\Lib\\site-packages\\skopt\\optimizer\\optimizer.py:449: UserWarning: The objective has been evaluated at this point before.\n",
      "  warnings.warn(\"The objective has been evaluated \"\n"
     ]
    },
    {
     "name": "stdout",
     "output_type": "stream",
     "text": [
      "Fitting 15 folds for each of 1 candidates, totalling 15 fits\n"
     ]
    },
    {
     "name": "stderr",
     "output_type": "stream",
     "text": [
      "C:\\Users\\Karolina\\.conda\\envs\\Licencjat\\Lib\\site-packages\\skopt\\optimizer\\optimizer.py:449: UserWarning: The objective has been evaluated at this point before.\n",
      "  warnings.warn(\"The objective has been evaluated \"\n"
     ]
    },
    {
     "name": "stdout",
     "output_type": "stream",
     "text": [
      "Fitting 15 folds for each of 1 candidates, totalling 15 fits\n",
      "Fitting 15 folds for each of 1 candidates, totalling 15 fits\n",
      "Fitting 15 folds for each of 1 candidates, totalling 15 fits\n",
      "Fitting 15 folds for each of 1 candidates, totalling 15 fits\n",
      "Fitting 15 folds for each of 1 candidates, totalling 15 fits\n",
      "Fitting 15 folds for each of 1 candidates, totalling 15 fits\n",
      "Fitting 15 folds for each of 1 candidates, totalling 15 fits\n",
      "Fitting 15 folds for each of 1 candidates, totalling 15 fits\n",
      "Fitting 15 folds for each of 1 candidates, totalling 15 fits\n",
      "Fitting 15 folds for each of 1 candidates, totalling 15 fits\n",
      "Fitting 15 folds for each of 1 candidates, totalling 15 fits\n",
      "Fitting 15 folds for each of 1 candidates, totalling 15 fits\n",
      "Fitting 15 folds for each of 1 candidates, totalling 15 fits\n",
      "Fitting 15 folds for each of 1 candidates, totalling 15 fits\n",
      "Fitting 15 folds for each of 1 candidates, totalling 15 fits\n",
      "Fitting 15 folds for each of 1 candidates, totalling 15 fits\n",
      "Fitting 15 folds for each of 1 candidates, totalling 15 fits\n",
      "Fitting 15 folds for each of 1 candidates, totalling 15 fits\n",
      "Fitting 15 folds for each of 1 candidates, totalling 15 fits\n",
      "Fitting 15 folds for each of 1 candidates, totalling 15 fits\n",
      "Fitting 15 folds for each of 1 candidates, totalling 15 fits\n",
      "Fitting 15 folds for each of 1 candidates, totalling 15 fits\n",
      "Fitting 15 folds for each of 1 candidates, totalling 15 fits\n",
      "Fitting 15 folds for each of 1 candidates, totalling 15 fits\n",
      "Fitting 15 folds for each of 1 candidates, totalling 15 fits\n",
      "Fitting 15 folds for each of 1 candidates, totalling 15 fits\n",
      "Fitting 15 folds for each of 1 candidates, totalling 15 fits\n",
      "Fitting 15 folds for each of 1 candidates, totalling 15 fits\n"
     ]
    },
    {
     "name": "stderr",
     "output_type": "stream",
     "text": [
      "\r\n",
      " 67%|███████████████████████████████████████████████████████▎                           | 2/3 [04:11<02:05, 125.27s/it]"
     ]
    },
    {
     "name": "stdout",
     "output_type": "stream",
     "text": [
      "0.5302814201364926\n",
      "OrderedDict([('C', 0.037748639812620256), ('gamma', 'scale'), ('kernel', 'sigmoid')])\n",
      "Fitting 15 folds for each of 1 candidates, totalling 15 fits\n",
      "Fitting 15 folds for each of 1 candidates, totalling 15 fits\n",
      "Fitting 15 folds for each of 1 candidates, totalling 15 fits\n",
      "Fitting 15 folds for each of 1 candidates, totalling 15 fits\n",
      "Fitting 15 folds for each of 1 candidates, totalling 15 fits\n",
      "Fitting 15 folds for each of 1 candidates, totalling 15 fits\n",
      "Fitting 15 folds for each of 1 candidates, totalling 15 fits\n",
      "Fitting 15 folds for each of 1 candidates, totalling 15 fits\n",
      "Fitting 15 folds for each of 1 candidates, totalling 15 fits\n",
      "Fitting 15 folds for each of 1 candidates, totalling 15 fits\n",
      "Fitting 15 folds for each of 1 candidates, totalling 15 fits\n",
      "Fitting 15 folds for each of 1 candidates, totalling 15 fits\n",
      "Fitting 15 folds for each of 1 candidates, totalling 15 fits\n",
      "Fitting 15 folds for each of 1 candidates, totalling 15 fits\n",
      "Fitting 15 folds for each of 1 candidates, totalling 15 fits\n",
      "Fitting 15 folds for each of 1 candidates, totalling 15 fits\n",
      "Fitting 15 folds for each of 1 candidates, totalling 15 fits\n",
      "Fitting 15 folds for each of 1 candidates, totalling 15 fits\n",
      "Fitting 15 folds for each of 1 candidates, totalling 15 fits\n",
      "Fitting 15 folds for each of 1 candidates, totalling 15 fits\n",
      "Fitting 15 folds for each of 1 candidates, totalling 15 fits\n",
      "Fitting 15 folds for each of 1 candidates, totalling 15 fits\n",
      "Fitting 15 folds for each of 1 candidates, totalling 15 fits\n",
      "Fitting 15 folds for each of 1 candidates, totalling 15 fits\n",
      "Fitting 15 folds for each of 1 candidates, totalling 15 fits\n",
      "Fitting 15 folds for each of 1 candidates, totalling 15 fits\n",
      "Fitting 15 folds for each of 1 candidates, totalling 15 fits\n",
      "Fitting 15 folds for each of 1 candidates, totalling 15 fits\n"
     ]
    },
    {
     "name": "stderr",
     "output_type": "stream",
     "text": [
      "C:\\Users\\Karolina\\.conda\\envs\\Licencjat\\Lib\\site-packages\\skopt\\optimizer\\optimizer.py:449: UserWarning: The objective has been evaluated at this point before.\n",
      "  warnings.warn(\"The objective has been evaluated \"\n"
     ]
    },
    {
     "name": "stdout",
     "output_type": "stream",
     "text": [
      "Fitting 15 folds for each of 1 candidates, totalling 15 fits\n"
     ]
    },
    {
     "name": "stderr",
     "output_type": "stream",
     "text": [
      "C:\\Users\\Karolina\\.conda\\envs\\Licencjat\\Lib\\site-packages\\skopt\\optimizer\\optimizer.py:449: UserWarning: The objective has been evaluated at this point before.\n",
      "  warnings.warn(\"The objective has been evaluated \"\n"
     ]
    },
    {
     "name": "stdout",
     "output_type": "stream",
     "text": [
      "Fitting 15 folds for each of 1 candidates, totalling 15 fits\n"
     ]
    },
    {
     "name": "stderr",
     "output_type": "stream",
     "text": [
      "C:\\Users\\Karolina\\.conda\\envs\\Licencjat\\Lib\\site-packages\\skopt\\optimizer\\optimizer.py:449: UserWarning: The objective has been evaluated at this point before.\n",
      "  warnings.warn(\"The objective has been evaluated \"\n"
     ]
    },
    {
     "name": "stdout",
     "output_type": "stream",
     "text": [
      "Fitting 15 folds for each of 1 candidates, totalling 15 fits\n"
     ]
    },
    {
     "name": "stderr",
     "output_type": "stream",
     "text": [
      "C:\\Users\\Karolina\\.conda\\envs\\Licencjat\\Lib\\site-packages\\skopt\\optimizer\\optimizer.py:449: UserWarning: The objective has been evaluated at this point before.\n",
      "  warnings.warn(\"The objective has been evaluated \"\n"
     ]
    },
    {
     "name": "stdout",
     "output_type": "stream",
     "text": [
      "Fitting 15 folds for each of 1 candidates, totalling 15 fits\n",
      "Fitting 15 folds for each of 1 candidates, totalling 15 fits\n",
      "Fitting 15 folds for each of 1 candidates, totalling 15 fits\n",
      "Fitting 15 folds for each of 1 candidates, totalling 15 fits\n",
      "Fitting 15 folds for each of 1 candidates, totalling 15 fits\n",
      "Fitting 15 folds for each of 1 candidates, totalling 15 fits\n",
      "Fitting 15 folds for each of 1 candidates, totalling 15 fits\n",
      "Fitting 15 folds for each of 1 candidates, totalling 15 fits\n",
      "Fitting 15 folds for each of 1 candidates, totalling 15 fits\n",
      "Fitting 15 folds for each of 1 candidates, totalling 15 fits\n",
      "Fitting 15 folds for each of 1 candidates, totalling 15 fits\n",
      "Fitting 15 folds for each of 1 candidates, totalling 15 fits\n",
      "Fitting 15 folds for each of 1 candidates, totalling 15 fits\n",
      "Fitting 15 folds for each of 1 candidates, totalling 15 fits\n",
      "Fitting 15 folds for each of 1 candidates, totalling 15 fits\n",
      "Fitting 15 folds for each of 1 candidates, totalling 15 fits\n",
      "Fitting 15 folds for each of 1 candidates, totalling 15 fits\n",
      "Fitting 15 folds for each of 1 candidates, totalling 15 fits\n",
      "Fitting 15 folds for each of 1 candidates, totalling 15 fits\n"
     ]
    },
    {
     "name": "stderr",
     "output_type": "stream",
     "text": [
      "100%|███████████████████████████████████████████████████████████████████████████████████| 3/3 [06:04<00:00, 121.64s/it]"
     ]
    },
    {
     "name": "stdout",
     "output_type": "stream",
     "text": [
      "0.5302814201364926\n",
      "OrderedDict([('C', 0.05136968425913965), ('gamma', 'auto'), ('kernel', 'rbf')])\n"
     ]
    },
    {
     "name": "stderr",
     "output_type": "stream",
     "text": [
      "\n"
     ]
    }
   ],
   "source": [
    "from sklearn.model_selection import RepeatedStratifiedKFold\n",
    "from sklearn.model_selection import cross_val_score\n",
    "from skopt import BayesSearchCV\n",
    "from sklearn.svm import SVC\n",
    "from tqdm import tqdm\n",
    "\n",
    "# , 'poly'\n",
    "C = (1e-2, 1e+3, 'log-uniform')\n",
    "\n",
    "gamma = ['scale', 'auto']\n",
    "\n",
    "kernel = ['rbf', 'sigmoid']\n",
    "\n",
    "paramsSVM = {'C': C,\n",
    "             'gamma': gamma,\n",
    "             'kernel': kernel,}\n",
    "\n",
    "# Split X and y into train and test\n",
    "#X_train, X_test, y_train, y_test = train_test_split(X_Cols, Y_Cols, train_size = 0.65)\n",
    "\n",
    "# define evaluation\n",
    "cv_svm = RepeatedStratifiedKFold(n_splits=5, n_repeats=3)\n",
    "# define the search\n",
    "for i in tqdm(paramsSVM):\n",
    "    search_svm = BayesSearchCV(estimator=SVC(), search_spaces=paramsSVM, n_jobs=-1, cv=cv_svm, verbose = 100)\n",
    "    #search_svm = RandomizedSearchCV(estimator=SVC(), param_distributions=paramsSVM, n_jobs=-1, cv=cv_svm)\n",
    "    # perform the search\n",
    "    search_svm.fit(X_train, y_train)\n",
    "    # report the best result\n",
    "    print(search_svm.best_score_)\n",
    "    print(search_svm.best_params_)"
   ]
  },
  {
   "cell_type": "markdown",
   "id": "7a0193ea",
   "metadata": {},
   "source": [
    "0.5302814201364926\n",
    "OrderedDict([('C', 165.46537473341982), ('gamma', 'auto'), ('kernel', 'rbf')])\n",
    "0.5302814201364926\n",
    "OrderedDict([('C', 0.037748639812620256), ('gamma', 'scale'), ('kernel', 'sigmoid')])\n",
    "0.5302814201364926\n",
    "OrderedDict([('C', 0.05136968425913965), ('gamma', 'auto'), ('kernel', 'rbf')])\n",
    "\n",
    "II\n",
    "0.530902538148915\n",
    "OrderedDict([('C', 0.09288120480023665), ('gamma', 'scale'), ('kernel', 'sigmoid')])\n",
    "0.532765892186182\n",
    "OrderedDict([('C', 0.16171819885310468), ('gamma', 'scale'), ('kernel', 'sigmoid')])\n",
    "0.5302814201364926\n",
    "OrderedDict([('C', 0.3472933527506412), ('gamma', 'scale'), ('kernel', 'rbf')])"
   ]
  },
  {
   "cell_type": "code",
   "execution_count": 8,
   "id": "b553d1f8",
   "metadata": {
    "scrolled": true
   },
   "outputs": [
    {
     "name": "stderr",
     "output_type": "stream",
     "text": [
      "\r\n",
      "  0%|                                                                                            | 0/3 [00:00<?, ?it/s]"
     ]
    },
    {
     "name": "stdout",
     "output_type": "stream",
     "text": [
      "Fitting 10 folds for each of 1 candidates, totalling 10 fits\n",
      "Fitting 10 folds for each of 1 candidates, totalling 10 fits\n",
      "Fitting 10 folds for each of 1 candidates, totalling 10 fits\n",
      "Fitting 10 folds for each of 1 candidates, totalling 10 fits\n",
      "Fitting 10 folds for each of 1 candidates, totalling 10 fits\n",
      "Fitting 10 folds for each of 1 candidates, totalling 10 fits\n",
      "Fitting 10 folds for each of 1 candidates, totalling 10 fits\n",
      "Fitting 10 folds for each of 1 candidates, totalling 10 fits\n",
      "Fitting 10 folds for each of 1 candidates, totalling 10 fits\n",
      "Fitting 10 folds for each of 1 candidates, totalling 10 fits\n",
      "Fitting 10 folds for each of 1 candidates, totalling 10 fits\n",
      "Fitting 10 folds for each of 1 candidates, totalling 10 fits\n",
      "Fitting 10 folds for each of 1 candidates, totalling 10 fits\n",
      "Fitting 10 folds for each of 1 candidates, totalling 10 fits\n",
      "Fitting 10 folds for each of 1 candidates, totalling 10 fits\n",
      "Fitting 10 folds for each of 1 candidates, totalling 10 fits\n",
      "Fitting 10 folds for each of 1 candidates, totalling 10 fits\n",
      "Fitting 10 folds for each of 1 candidates, totalling 10 fits\n",
      "Fitting 10 folds for each of 1 candidates, totalling 10 fits\n",
      "Fitting 10 folds for each of 1 candidates, totalling 10 fits\n",
      "Fitting 10 folds for each of 1 candidates, totalling 10 fits\n",
      "Fitting 10 folds for each of 1 candidates, totalling 10 fits\n",
      "Fitting 10 folds for each of 1 candidates, totalling 10 fits\n",
      "Fitting 10 folds for each of 1 candidates, totalling 10 fits\n",
      "Fitting 10 folds for each of 1 candidates, totalling 10 fits\n",
      "Fitting 10 folds for each of 1 candidates, totalling 10 fits\n",
      "Fitting 10 folds for each of 1 candidates, totalling 10 fits\n",
      "Fitting 10 folds for each of 1 candidates, totalling 10 fits\n",
      "Fitting 10 folds for each of 1 candidates, totalling 10 fits\n",
      "Fitting 10 folds for each of 1 candidates, totalling 10 fits\n",
      "Fitting 10 folds for each of 1 candidates, totalling 10 fits\n",
      "Fitting 10 folds for each of 1 candidates, totalling 10 fits\n",
      "Fitting 10 folds for each of 1 candidates, totalling 10 fits\n",
      "Fitting 10 folds for each of 1 candidates, totalling 10 fits\n",
      "Fitting 10 folds for each of 1 candidates, totalling 10 fits\n",
      "Fitting 10 folds for each of 1 candidates, totalling 10 fits\n",
      "Fitting 10 folds for each of 1 candidates, totalling 10 fits\n",
      "Fitting 10 folds for each of 1 candidates, totalling 10 fits\n",
      "Fitting 10 folds for each of 1 candidates, totalling 10 fits\n",
      "Fitting 10 folds for each of 1 candidates, totalling 10 fits\n",
      "Fitting 10 folds for each of 1 candidates, totalling 10 fits\n",
      "Fitting 10 folds for each of 1 candidates, totalling 10 fits\n",
      "Fitting 10 folds for each of 1 candidates, totalling 10 fits\n",
      "Fitting 10 folds for each of 1 candidates, totalling 10 fits\n",
      "Fitting 10 folds for each of 1 candidates, totalling 10 fits\n",
      "Fitting 10 folds for each of 1 candidates, totalling 10 fits\n",
      "Fitting 10 folds for each of 1 candidates, totalling 10 fits\n",
      "Fitting 10 folds for each of 1 candidates, totalling 10 fits\n",
      "Fitting 10 folds for each of 1 candidates, totalling 10 fits\n",
      "Fitting 10 folds for each of 1 candidates, totalling 10 fits\n"
     ]
    },
    {
     "name": "stderr",
     "output_type": "stream",
     "text": [
      "\r\n",
      " 33%|███████████████████████████▋                                                       | 1/3 [09:52<19:44, 592.11s/it]"
     ]
    },
    {
     "name": "stdout",
     "output_type": "stream",
     "text": [
      "0.530902538148915\n",
      "OrderedDict([('C', 0.09288120480023665), ('gamma', 'scale'), ('kernel', 'sigmoid')])\n",
      "Fitting 10 folds for each of 1 candidates, totalling 10 fits\n",
      "Fitting 10 folds for each of 1 candidates, totalling 10 fits\n",
      "Fitting 10 folds for each of 1 candidates, totalling 10 fits\n",
      "Fitting 10 folds for each of 1 candidates, totalling 10 fits\n",
      "Fitting 10 folds for each of 1 candidates, totalling 10 fits\n",
      "Fitting 10 folds for each of 1 candidates, totalling 10 fits\n",
      "Fitting 10 folds for each of 1 candidates, totalling 10 fits\n",
      "Fitting 10 folds for each of 1 candidates, totalling 10 fits\n",
      "Fitting 10 folds for each of 1 candidates, totalling 10 fits\n",
      "Fitting 10 folds for each of 1 candidates, totalling 10 fits\n",
      "Fitting 10 folds for each of 1 candidates, totalling 10 fits\n",
      "Fitting 10 folds for each of 1 candidates, totalling 10 fits\n",
      "Fitting 10 folds for each of 1 candidates, totalling 10 fits\n",
      "Fitting 10 folds for each of 1 candidates, totalling 10 fits\n",
      "Fitting 10 folds for each of 1 candidates, totalling 10 fits\n",
      "Fitting 10 folds for each of 1 candidates, totalling 10 fits\n",
      "Fitting 10 folds for each of 1 candidates, totalling 10 fits\n",
      "Fitting 10 folds for each of 1 candidates, totalling 10 fits\n",
      "Fitting 10 folds for each of 1 candidates, totalling 10 fits\n",
      "Fitting 10 folds for each of 1 candidates, totalling 10 fits\n"
     ]
    },
    {
     "name": "stderr",
     "output_type": "stream",
     "text": [
      "C:\\Users\\Karolina\\.conda\\envs\\Licencjat\\Lib\\site-packages\\skopt\\optimizer\\optimizer.py:449: UserWarning: The objective has been evaluated at this point before.\n",
      "  warnings.warn(\"The objective has been evaluated \"\n"
     ]
    },
    {
     "name": "stdout",
     "output_type": "stream",
     "text": [
      "Fitting 10 folds for each of 1 candidates, totalling 10 fits\n",
      "Fitting 10 folds for each of 1 candidates, totalling 10 fits\n"
     ]
    },
    {
     "name": "stderr",
     "output_type": "stream",
     "text": [
      "C:\\Users\\Karolina\\.conda\\envs\\Licencjat\\Lib\\site-packages\\skopt\\optimizer\\optimizer.py:449: UserWarning: The objective has been evaluated at this point before.\n",
      "  warnings.warn(\"The objective has been evaluated \"\n"
     ]
    },
    {
     "name": "stdout",
     "output_type": "stream",
     "text": [
      "Fitting 10 folds for each of 1 candidates, totalling 10 fits\n"
     ]
    },
    {
     "name": "stderr",
     "output_type": "stream",
     "text": [
      "C:\\Users\\Karolina\\.conda\\envs\\Licencjat\\Lib\\site-packages\\skopt\\optimizer\\optimizer.py:449: UserWarning: The objective has been evaluated at this point before.\n",
      "  warnings.warn(\"The objective has been evaluated \"\n"
     ]
    },
    {
     "name": "stdout",
     "output_type": "stream",
     "text": [
      "Fitting 10 folds for each of 1 candidates, totalling 10 fits\n"
     ]
    },
    {
     "name": "stderr",
     "output_type": "stream",
     "text": [
      "C:\\Users\\Karolina\\.conda\\envs\\Licencjat\\Lib\\site-packages\\skopt\\optimizer\\optimizer.py:449: UserWarning: The objective has been evaluated at this point before.\n",
      "  warnings.warn(\"The objective has been evaluated \"\n"
     ]
    },
    {
     "name": "stdout",
     "output_type": "stream",
     "text": [
      "Fitting 10 folds for each of 1 candidates, totalling 10 fits\n",
      "Fitting 10 folds for each of 1 candidates, totalling 10 fits\n",
      "Fitting 10 folds for each of 1 candidates, totalling 10 fits\n",
      "Fitting 10 folds for each of 1 candidates, totalling 10 fits\n",
      "Fitting 10 folds for each of 1 candidates, totalling 10 fits\n",
      "Fitting 10 folds for each of 1 candidates, totalling 10 fits\n",
      "Fitting 10 folds for each of 1 candidates, totalling 10 fits\n"
     ]
    },
    {
     "name": "stderr",
     "output_type": "stream",
     "text": [
      "C:\\Users\\Karolina\\.conda\\envs\\Licencjat\\Lib\\site-packages\\skopt\\optimizer\\optimizer.py:449: UserWarning: The objective has been evaluated at this point before.\n",
      "  warnings.warn(\"The objective has been evaluated \"\n"
     ]
    },
    {
     "name": "stdout",
     "output_type": "stream",
     "text": [
      "Fitting 10 folds for each of 1 candidates, totalling 10 fits\n",
      "Fitting 10 folds for each of 1 candidates, totalling 10 fits\n",
      "Fitting 10 folds for each of 1 candidates, totalling 10 fits\n",
      "Fitting 10 folds for each of 1 candidates, totalling 10 fits\n",
      "Fitting 10 folds for each of 1 candidates, totalling 10 fits\n",
      "Fitting 10 folds for each of 1 candidates, totalling 10 fits\n",
      "Fitting 10 folds for each of 1 candidates, totalling 10 fits\n"
     ]
    },
    {
     "name": "stderr",
     "output_type": "stream",
     "text": [
      "C:\\Users\\Karolina\\.conda\\envs\\Licencjat\\Lib\\site-packages\\skopt\\optimizer\\optimizer.py:449: UserWarning: The objective has been evaluated at this point before.\n",
      "  warnings.warn(\"The objective has been evaluated \"\n"
     ]
    },
    {
     "name": "stdout",
     "output_type": "stream",
     "text": [
      "Fitting 10 folds for each of 1 candidates, totalling 10 fits\n",
      "Fitting 10 folds for each of 1 candidates, totalling 10 fits\n",
      "Fitting 10 folds for each of 1 candidates, totalling 10 fits\n",
      "Fitting 10 folds for each of 1 candidates, totalling 10 fits\n",
      "Fitting 10 folds for each of 1 candidates, totalling 10 fits\n"
     ]
    },
    {
     "name": "stderr",
     "output_type": "stream",
     "text": [
      "C:\\Users\\Karolina\\.conda\\envs\\Licencjat\\Lib\\site-packages\\skopt\\optimizer\\optimizer.py:449: UserWarning: The objective has been evaluated at this point before.\n",
      "  warnings.warn(\"The objective has been evaluated \"\n"
     ]
    },
    {
     "name": "stdout",
     "output_type": "stream",
     "text": [
      "Fitting 10 folds for each of 1 candidates, totalling 10 fits\n",
      "Fitting 10 folds for each of 1 candidates, totalling 10 fits\n",
      "Fitting 10 folds for each of 1 candidates, totalling 10 fits\n",
      "Fitting 10 folds for each of 1 candidates, totalling 10 fits\n",
      "Fitting 10 folds for each of 1 candidates, totalling 10 fits\n",
      "Fitting 10 folds for each of 1 candidates, totalling 10 fits\n",
      "Fitting 10 folds for each of 1 candidates, totalling 10 fits\n"
     ]
    },
    {
     "name": "stderr",
     "output_type": "stream",
     "text": [
      "\r\n",
      " 67%|███████████████████████████████████████████████████████▎                           | 2/3 [11:29<05:01, 301.37s/it]"
     ]
    },
    {
     "name": "stdout",
     "output_type": "stream",
     "text": [
      "0.532765892186182\n",
      "OrderedDict([('C', 0.16171819885310468), ('gamma', 'scale'), ('kernel', 'sigmoid')])\n",
      "Fitting 10 folds for each of 1 candidates, totalling 10 fits\n",
      "Fitting 10 folds for each of 1 candidates, totalling 10 fits\n",
      "Fitting 10 folds for each of 1 candidates, totalling 10 fits\n",
      "Fitting 10 folds for each of 1 candidates, totalling 10 fits\n",
      "Fitting 10 folds for each of 1 candidates, totalling 10 fits\n",
      "Fitting 10 folds for each of 1 candidates, totalling 10 fits\n",
      "Fitting 10 folds for each of 1 candidates, totalling 10 fits\n",
      "Fitting 10 folds for each of 1 candidates, totalling 10 fits\n",
      "Fitting 10 folds for each of 1 candidates, totalling 10 fits\n",
      "Fitting 10 folds for each of 1 candidates, totalling 10 fits\n",
      "Fitting 10 folds for each of 1 candidates, totalling 10 fits\n",
      "Fitting 10 folds for each of 1 candidates, totalling 10 fits\n",
      "Fitting 10 folds for each of 1 candidates, totalling 10 fits\n",
      "Fitting 10 folds for each of 1 candidates, totalling 10 fits\n",
      "Fitting 10 folds for each of 1 candidates, totalling 10 fits\n"
     ]
    },
    {
     "name": "stderr",
     "output_type": "stream",
     "text": [
      "C:\\Users\\Karolina\\.conda\\envs\\Licencjat\\Lib\\site-packages\\skopt\\optimizer\\optimizer.py:449: UserWarning: The objective has been evaluated at this point before.\n",
      "  warnings.warn(\"The objective has been evaluated \"\n"
     ]
    },
    {
     "name": "stdout",
     "output_type": "stream",
     "text": [
      "Fitting 10 folds for each of 1 candidates, totalling 10 fits\n",
      "Fitting 10 folds for each of 1 candidates, totalling 10 fits\n",
      "Fitting 10 folds for each of 1 candidates, totalling 10 fits\n",
      "Fitting 10 folds for each of 1 candidates, totalling 10 fits\n",
      "Fitting 10 folds for each of 1 candidates, totalling 10 fits\n",
      "Fitting 10 folds for each of 1 candidates, totalling 10 fits\n",
      "Fitting 10 folds for each of 1 candidates, totalling 10 fits\n"
     ]
    },
    {
     "name": "stderr",
     "output_type": "stream",
     "text": [
      "C:\\Users\\Karolina\\.conda\\envs\\Licencjat\\Lib\\site-packages\\skopt\\optimizer\\optimizer.py:449: UserWarning: The objective has been evaluated at this point before.\n",
      "  warnings.warn(\"The objective has been evaluated \"\n"
     ]
    },
    {
     "name": "stdout",
     "output_type": "stream",
     "text": [
      "Fitting 10 folds for each of 1 candidates, totalling 10 fits\n"
     ]
    },
    {
     "name": "stderr",
     "output_type": "stream",
     "text": [
      "C:\\Users\\Karolina\\.conda\\envs\\Licencjat\\Lib\\site-packages\\skopt\\optimizer\\optimizer.py:449: UserWarning: The objective has been evaluated at this point before.\n",
      "  warnings.warn(\"The objective has been evaluated \"\n"
     ]
    },
    {
     "name": "stdout",
     "output_type": "stream",
     "text": [
      "Fitting 10 folds for each of 1 candidates, totalling 10 fits\n",
      "Fitting 10 folds for each of 1 candidates, totalling 10 fits\n",
      "Fitting 10 folds for each of 1 candidates, totalling 10 fits\n",
      "Fitting 10 folds for each of 1 candidates, totalling 10 fits\n",
      "Fitting 10 folds for each of 1 candidates, totalling 10 fits\n",
      "Fitting 10 folds for each of 1 candidates, totalling 10 fits\n"
     ]
    },
    {
     "name": "stderr",
     "output_type": "stream",
     "text": [
      "C:\\Users\\Karolina\\.conda\\envs\\Licencjat\\Lib\\site-packages\\skopt\\optimizer\\optimizer.py:449: UserWarning: The objective has been evaluated at this point before.\n",
      "  warnings.warn(\"The objective has been evaluated \"\n"
     ]
    },
    {
     "name": "stdout",
     "output_type": "stream",
     "text": [
      "Fitting 10 folds for each of 1 candidates, totalling 10 fits\n"
     ]
    },
    {
     "name": "stderr",
     "output_type": "stream",
     "text": [
      "C:\\Users\\Karolina\\.conda\\envs\\Licencjat\\Lib\\site-packages\\skopt\\optimizer\\optimizer.py:449: UserWarning: The objective has been evaluated at this point before.\n",
      "  warnings.warn(\"The objective has been evaluated \"\n"
     ]
    },
    {
     "name": "stdout",
     "output_type": "stream",
     "text": [
      "Fitting 10 folds for each of 1 candidates, totalling 10 fits\n",
      "Fitting 10 folds for each of 1 candidates, totalling 10 fits\n"
     ]
    },
    {
     "name": "stderr",
     "output_type": "stream",
     "text": [
      "C:\\Users\\Karolina\\.conda\\envs\\Licencjat\\Lib\\site-packages\\skopt\\optimizer\\optimizer.py:449: UserWarning: The objective has been evaluated at this point before.\n",
      "  warnings.warn(\"The objective has been evaluated \"\n"
     ]
    },
    {
     "name": "stdout",
     "output_type": "stream",
     "text": [
      "Fitting 10 folds for each of 1 candidates, totalling 10 fits\n"
     ]
    },
    {
     "name": "stderr",
     "output_type": "stream",
     "text": [
      "C:\\Users\\Karolina\\.conda\\envs\\Licencjat\\Lib\\site-packages\\skopt\\optimizer\\optimizer.py:449: UserWarning: The objective has been evaluated at this point before.\n",
      "  warnings.warn(\"The objective has been evaluated \"\n"
     ]
    },
    {
     "name": "stdout",
     "output_type": "stream",
     "text": [
      "Fitting 10 folds for each of 1 candidates, totalling 10 fits\n"
     ]
    },
    {
     "name": "stderr",
     "output_type": "stream",
     "text": [
      "C:\\Users\\Karolina\\.conda\\envs\\Licencjat\\Lib\\site-packages\\skopt\\optimizer\\optimizer.py:449: UserWarning: The objective has been evaluated at this point before.\n",
      "  warnings.warn(\"The objective has been evaluated \"\n"
     ]
    },
    {
     "name": "stdout",
     "output_type": "stream",
     "text": [
      "Fitting 10 folds for each of 1 candidates, totalling 10 fits\n",
      "Fitting 10 folds for each of 1 candidates, totalling 10 fits\n"
     ]
    },
    {
     "name": "stderr",
     "output_type": "stream",
     "text": [
      "C:\\Users\\Karolina\\.conda\\envs\\Licencjat\\Lib\\site-packages\\skopt\\optimizer\\optimizer.py:449: UserWarning: The objective has been evaluated at this point before.\n",
      "  warnings.warn(\"The objective has been evaluated \"\n"
     ]
    },
    {
     "name": "stdout",
     "output_type": "stream",
     "text": [
      "Fitting 10 folds for each of 1 candidates, totalling 10 fits\n"
     ]
    },
    {
     "name": "stderr",
     "output_type": "stream",
     "text": [
      "C:\\Users\\Karolina\\.conda\\envs\\Licencjat\\Lib\\site-packages\\skopt\\optimizer\\optimizer.py:449: UserWarning: The objective has been evaluated at this point before.\n",
      "  warnings.warn(\"The objective has been evaluated \"\n"
     ]
    },
    {
     "name": "stdout",
     "output_type": "stream",
     "text": [
      "Fitting 10 folds for each of 1 candidates, totalling 10 fits\n",
      "Fitting 10 folds for each of 1 candidates, totalling 10 fits\n",
      "Fitting 10 folds for each of 1 candidates, totalling 10 fits\n",
      "Fitting 10 folds for each of 1 candidates, totalling 10 fits\n",
      "Fitting 10 folds for each of 1 candidates, totalling 10 fits\n",
      "Fitting 10 folds for each of 1 candidates, totalling 10 fits\n",
      "Fitting 10 folds for each of 1 candidates, totalling 10 fits\n",
      "Fitting 10 folds for each of 1 candidates, totalling 10 fits\n",
      "Fitting 10 folds for each of 1 candidates, totalling 10 fits\n",
      "Fitting 10 folds for each of 1 candidates, totalling 10 fits\n"
     ]
    },
    {
     "name": "stderr",
     "output_type": "stream",
     "text": [
      "C:\\Users\\Karolina\\.conda\\envs\\Licencjat\\Lib\\site-packages\\skopt\\optimizer\\optimizer.py:449: UserWarning: The objective has been evaluated at this point before.\n",
      "  warnings.warn(\"The objective has been evaluated \"\n"
     ]
    },
    {
     "name": "stdout",
     "output_type": "stream",
     "text": [
      "Fitting 10 folds for each of 1 candidates, totalling 10 fits\n"
     ]
    },
    {
     "name": "stderr",
     "output_type": "stream",
     "text": [
      "C:\\Users\\Karolina\\.conda\\envs\\Licencjat\\Lib\\site-packages\\skopt\\optimizer\\optimizer.py:449: UserWarning: The objective has been evaluated at this point before.\n",
      "  warnings.warn(\"The objective has been evaluated \"\n"
     ]
    },
    {
     "name": "stdout",
     "output_type": "stream",
     "text": [
      "Fitting 10 folds for each of 1 candidates, totalling 10 fits\n"
     ]
    },
    {
     "name": "stderr",
     "output_type": "stream",
     "text": [
      "C:\\Users\\Karolina\\.conda\\envs\\Licencjat\\Lib\\site-packages\\skopt\\optimizer\\optimizer.py:449: UserWarning: The objective has been evaluated at this point before.\n",
      "  warnings.warn(\"The objective has been evaluated \"\n"
     ]
    },
    {
     "name": "stdout",
     "output_type": "stream",
     "text": [
      "Fitting 10 folds for each of 1 candidates, totalling 10 fits\n"
     ]
    },
    {
     "name": "stderr",
     "output_type": "stream",
     "text": [
      "100%|███████████████████████████████████████████████████████████████████████████████████| 3/3 [13:22<00:00, 267.34s/it]"
     ]
    },
    {
     "name": "stdout",
     "output_type": "stream",
     "text": [
      "0.5302814201364926\n",
      "OrderedDict([('C', 0.3472933527506412), ('gamma', 'scale'), ('kernel', 'rbf')])\n"
     ]
    },
    {
     "name": "stderr",
     "output_type": "stream",
     "text": [
      "\n"
     ]
    }
   ],
   "source": [
    "# II\n",
    "from sklearn.model_selection import RepeatedStratifiedKFold\n",
    "from sklearn.model_selection import cross_val_score\n",
    "from skopt import BayesSearchCV\n",
    "from sklearn.svm import SVC\n",
    "from tqdm import tqdm\n",
    "\n",
    "# , 'poly'\n",
    "C = (1e-2, 1e+3, 'log-uniform')\n",
    "\n",
    "gamma = ['scale', 'auto']\n",
    "\n",
    "kernel = ['rbf', 'sigmoid']\n",
    "\n",
    "paramsSVM = {'C': C,\n",
    "             'gamma': gamma,\n",
    "             'kernel': kernel,}\n",
    "\n",
    "# Split X and y into train and test\n",
    "#X_train, X_test, y_train, y_test = train_test_split(X_Cols, Y_Cols, train_size = 0.65)\n",
    "\n",
    "# define evaluation\n",
    "cv_svm = RepeatedStratifiedKFold(n_splits=5, n_repeats=2)\n",
    "# define the search\n",
    "for i in tqdm(paramsSVM):\n",
    "    search_svm = BayesSearchCV(estimator=SVC(), search_spaces=paramsSVM, n_jobs=-1, cv=cv_svm, verbose = 100)\n",
    "    #search_svm = RandomizedSearchCV(estimator=SVC(), param_distributions=paramsSVM, n_jobs=-1, cv=cv_svm)\n",
    "    # perform the search\n",
    "    search_svm.fit(X_train, y_train)\n",
    "    # report the best result\n",
    "    print(search_svm.best_score_)\n",
    "    print(search_svm.best_params_)"
   ]
  },
  {
   "cell_type": "markdown",
   "id": "1299ea49",
   "metadata": {},
   "source": [
    "## RFC"
   ]
  },
  {
   "cell_type": "code",
   "execution_count": 9,
   "id": "b36dc2df",
   "metadata": {
    "scrolled": true
   },
   "outputs": [
    {
     "name": "stderr",
     "output_type": "stream",
     "text": [
      "\r\n",
      "  0%|                                                                                            | 0/6 [00:00<?, ?it/s]"
     ]
    },
    {
     "name": "stdout",
     "output_type": "stream",
     "text": [
      "Fitting 25 folds for each of 1 candidates, totalling 25 fits\n",
      "Fitting 25 folds for each of 1 candidates, totalling 25 fits\n",
      "Fitting 25 folds for each of 1 candidates, totalling 25 fits\n",
      "Fitting 25 folds for each of 1 candidates, totalling 25 fits\n",
      "Fitting 25 folds for each of 1 candidates, totalling 25 fits\n",
      "Fitting 25 folds for each of 1 candidates, totalling 25 fits\n",
      "Fitting 25 folds for each of 1 candidates, totalling 25 fits\n",
      "Fitting 25 folds for each of 1 candidates, totalling 25 fits\n",
      "Fitting 25 folds for each of 1 candidates, totalling 25 fits\n",
      "Fitting 25 folds for each of 1 candidates, totalling 25 fits\n",
      "Fitting 25 folds for each of 1 candidates, totalling 25 fits\n",
      "Fitting 25 folds for each of 1 candidates, totalling 25 fits\n",
      "Fitting 25 folds for each of 1 candidates, totalling 25 fits\n",
      "Fitting 25 folds for each of 1 candidates, totalling 25 fits\n",
      "Fitting 25 folds for each of 1 candidates, totalling 25 fits\n",
      "Fitting 25 folds for each of 1 candidates, totalling 25 fits\n",
      "Fitting 25 folds for each of 1 candidates, totalling 25 fits\n",
      "Fitting 25 folds for each of 1 candidates, totalling 25 fits\n",
      "Fitting 25 folds for each of 1 candidates, totalling 25 fits\n",
      "Fitting 25 folds for each of 1 candidates, totalling 25 fits\n",
      "Fitting 25 folds for each of 1 candidates, totalling 25 fits\n",
      "Fitting 25 folds for each of 1 candidates, totalling 25 fits\n",
      "Fitting 25 folds for each of 1 candidates, totalling 25 fits\n",
      "Fitting 25 folds for each of 1 candidates, totalling 25 fits\n",
      "Fitting 25 folds for each of 1 candidates, totalling 25 fits\n",
      "Fitting 25 folds for each of 1 candidates, totalling 25 fits\n",
      "Fitting 25 folds for each of 1 candidates, totalling 25 fits\n",
      "Fitting 25 folds for each of 1 candidates, totalling 25 fits\n",
      "Fitting 25 folds for each of 1 candidates, totalling 25 fits\n",
      "Fitting 25 folds for each of 1 candidates, totalling 25 fits\n",
      "Fitting 25 folds for each of 1 candidates, totalling 25 fits\n",
      "Fitting 25 folds for each of 1 candidates, totalling 25 fits\n",
      "Fitting 25 folds for each of 1 candidates, totalling 25 fits\n",
      "Fitting 25 folds for each of 1 candidates, totalling 25 fits\n",
      "Fitting 25 folds for each of 1 candidates, totalling 25 fits\n",
      "Fitting 25 folds for each of 1 candidates, totalling 25 fits\n",
      "Fitting 25 folds for each of 1 candidates, totalling 25 fits\n",
      "Fitting 25 folds for each of 1 candidates, totalling 25 fits\n",
      "Fitting 25 folds for each of 1 candidates, totalling 25 fits\n",
      "Fitting 25 folds for each of 1 candidates, totalling 25 fits\n",
      "Fitting 25 folds for each of 1 candidates, totalling 25 fits\n",
      "Fitting 25 folds for each of 1 candidates, totalling 25 fits\n",
      "Fitting 25 folds for each of 1 candidates, totalling 25 fits\n",
      "Fitting 25 folds for each of 1 candidates, totalling 25 fits\n",
      "Fitting 25 folds for each of 1 candidates, totalling 25 fits\n",
      "Fitting 25 folds for each of 1 candidates, totalling 25 fits\n",
      "Fitting 25 folds for each of 1 candidates, totalling 25 fits\n",
      "Fitting 25 folds for each of 1 candidates, totalling 25 fits\n",
      "Fitting 25 folds for each of 1 candidates, totalling 25 fits\n",
      "Fitting 25 folds for each of 1 candidates, totalling 25 fits\n"
     ]
    },
    {
     "name": "stderr",
     "output_type": "stream",
     "text": [
      "\r\n",
      " 17%|█████████████▊                                                                     | 1/6 [08:57<44:49, 537.80s/it]"
     ]
    },
    {
     "name": "stdout",
     "output_type": "stream",
     "text": [
      "0.7001487615980371\n",
      "OrderedDict([('bootstrap', True), ('max_depth', 50), ('max_features', 'log2'), ('min_samples_leaf', 16), ('min_samples_split', 25), ('n_estimators', 600)])\n",
      "Fitting 25 folds for each of 1 candidates, totalling 25 fits\n",
      "Fitting 25 folds for each of 1 candidates, totalling 25 fits\n",
      "Fitting 25 folds for each of 1 candidates, totalling 25 fits\n",
      "Fitting 25 folds for each of 1 candidates, totalling 25 fits\n",
      "Fitting 25 folds for each of 1 candidates, totalling 25 fits\n",
      "Fitting 25 folds for each of 1 candidates, totalling 25 fits\n",
      "Fitting 25 folds for each of 1 candidates, totalling 25 fits\n",
      "Fitting 25 folds for each of 1 candidates, totalling 25 fits\n",
      "Fitting 25 folds for each of 1 candidates, totalling 25 fits\n",
      "Fitting 25 folds for each of 1 candidates, totalling 25 fits\n",
      "Fitting 25 folds for each of 1 candidates, totalling 25 fits\n",
      "Fitting 25 folds for each of 1 candidates, totalling 25 fits\n",
      "Fitting 25 folds for each of 1 candidates, totalling 25 fits\n",
      "Fitting 25 folds for each of 1 candidates, totalling 25 fits\n",
      "Fitting 25 folds for each of 1 candidates, totalling 25 fits\n",
      "Fitting 25 folds for each of 1 candidates, totalling 25 fits\n",
      "Fitting 25 folds for each of 1 candidates, totalling 25 fits\n",
      "Fitting 25 folds for each of 1 candidates, totalling 25 fits\n",
      "Fitting 25 folds for each of 1 candidates, totalling 25 fits\n",
      "Fitting 25 folds for each of 1 candidates, totalling 25 fits\n",
      "Fitting 25 folds for each of 1 candidates, totalling 25 fits\n",
      "Fitting 25 folds for each of 1 candidates, totalling 25 fits\n",
      "Fitting 25 folds for each of 1 candidates, totalling 25 fits\n",
      "Fitting 25 folds for each of 1 candidates, totalling 25 fits\n",
      "Fitting 25 folds for each of 1 candidates, totalling 25 fits\n",
      "Fitting 25 folds for each of 1 candidates, totalling 25 fits\n",
      "Fitting 25 folds for each of 1 candidates, totalling 25 fits\n",
      "Fitting 25 folds for each of 1 candidates, totalling 25 fits\n",
      "Fitting 25 folds for each of 1 candidates, totalling 25 fits\n",
      "Fitting 25 folds for each of 1 candidates, totalling 25 fits\n",
      "Fitting 25 folds for each of 1 candidates, totalling 25 fits\n",
      "Fitting 25 folds for each of 1 candidates, totalling 25 fits\n",
      "Fitting 25 folds for each of 1 candidates, totalling 25 fits\n",
      "Fitting 25 folds for each of 1 candidates, totalling 25 fits\n",
      "Fitting 25 folds for each of 1 candidates, totalling 25 fits\n",
      "Fitting 25 folds for each of 1 candidates, totalling 25 fits\n",
      "Fitting 25 folds for each of 1 candidates, totalling 25 fits\n",
      "Fitting 25 folds for each of 1 candidates, totalling 25 fits\n",
      "Fitting 25 folds for each of 1 candidates, totalling 25 fits\n",
      "Fitting 25 folds for each of 1 candidates, totalling 25 fits\n",
      "Fitting 25 folds for each of 1 candidates, totalling 25 fits\n",
      "Fitting 25 folds for each of 1 candidates, totalling 25 fits\n",
      "Fitting 25 folds for each of 1 candidates, totalling 25 fits\n",
      "Fitting 25 folds for each of 1 candidates, totalling 25 fits\n",
      "Fitting 25 folds for each of 1 candidates, totalling 25 fits\n",
      "Fitting 25 folds for each of 1 candidates, totalling 25 fits\n",
      "Fitting 25 folds for each of 1 candidates, totalling 25 fits\n",
      "Fitting 25 folds for each of 1 candidates, totalling 25 fits\n",
      "Fitting 25 folds for each of 1 candidates, totalling 25 fits\n"
     ]
    },
    {
     "name": "stderr",
     "output_type": "stream",
     "text": [
      "C:\\Users\\Karolina\\.conda\\envs\\Licencjat\\Lib\\site-packages\\skopt\\optimizer\\optimizer.py:449: UserWarning: The objective has been evaluated at this point before.\n",
      "  warnings.warn(\"The objective has been evaluated \"\n"
     ]
    },
    {
     "name": "stdout",
     "output_type": "stream",
     "text": [
      "Fitting 25 folds for each of 1 candidates, totalling 25 fits\n"
     ]
    },
    {
     "name": "stderr",
     "output_type": "stream",
     "text": [
      "\r\n",
      " 33%|███████████████████████████▋                                                       | 2/6 [18:40<37:37, 564.40s/it]"
     ]
    },
    {
     "name": "stdout",
     "output_type": "stream",
     "text": [
      "0.6959297599877311\n",
      "OrderedDict([('bootstrap', True), ('max_depth', 80), ('max_features', 'log2'), ('min_samples_leaf', 24), ('min_samples_split', 30), ('n_estimators', 600)])\n",
      "Fitting 25 folds for each of 1 candidates, totalling 25 fits\n",
      "Fitting 25 folds for each of 1 candidates, totalling 25 fits\n",
      "Fitting 25 folds for each of 1 candidates, totalling 25 fits\n",
      "Fitting 25 folds for each of 1 candidates, totalling 25 fits\n",
      "Fitting 25 folds for each of 1 candidates, totalling 25 fits\n",
      "Fitting 25 folds for each of 1 candidates, totalling 25 fits\n",
      "Fitting 25 folds for each of 1 candidates, totalling 25 fits\n",
      "Fitting 25 folds for each of 1 candidates, totalling 25 fits\n",
      "Fitting 25 folds for each of 1 candidates, totalling 25 fits\n",
      "Fitting 25 folds for each of 1 candidates, totalling 25 fits\n",
      "Fitting 25 folds for each of 1 candidates, totalling 25 fits\n",
      "Fitting 25 folds for each of 1 candidates, totalling 25 fits\n",
      "Fitting 25 folds for each of 1 candidates, totalling 25 fits\n",
      "Fitting 25 folds for each of 1 candidates, totalling 25 fits\n",
      "Fitting 25 folds for each of 1 candidates, totalling 25 fits\n",
      "Fitting 25 folds for each of 1 candidates, totalling 25 fits\n",
      "Fitting 25 folds for each of 1 candidates, totalling 25 fits\n",
      "Fitting 25 folds for each of 1 candidates, totalling 25 fits\n",
      "Fitting 25 folds for each of 1 candidates, totalling 25 fits\n",
      "Fitting 25 folds for each of 1 candidates, totalling 25 fits\n",
      "Fitting 25 folds for each of 1 candidates, totalling 25 fits\n",
      "Fitting 25 folds for each of 1 candidates, totalling 25 fits\n",
      "Fitting 25 folds for each of 1 candidates, totalling 25 fits\n",
      "Fitting 25 folds for each of 1 candidates, totalling 25 fits\n",
      "Fitting 25 folds for each of 1 candidates, totalling 25 fits\n",
      "Fitting 25 folds for each of 1 candidates, totalling 25 fits\n",
      "Fitting 25 folds for each of 1 candidates, totalling 25 fits\n",
      "Fitting 25 folds for each of 1 candidates, totalling 25 fits\n",
      "Fitting 25 folds for each of 1 candidates, totalling 25 fits\n",
      "Fitting 25 folds for each of 1 candidates, totalling 25 fits\n",
      "Fitting 25 folds for each of 1 candidates, totalling 25 fits\n",
      "Fitting 25 folds for each of 1 candidates, totalling 25 fits\n",
      "Fitting 25 folds for each of 1 candidates, totalling 25 fits\n",
      "Fitting 25 folds for each of 1 candidates, totalling 25 fits\n",
      "Fitting 25 folds for each of 1 candidates, totalling 25 fits\n",
      "Fitting 25 folds for each of 1 candidates, totalling 25 fits\n",
      "Fitting 25 folds for each of 1 candidates, totalling 25 fits\n",
      "Fitting 25 folds for each of 1 candidates, totalling 25 fits\n",
      "Fitting 25 folds for each of 1 candidates, totalling 25 fits\n",
      "Fitting 25 folds for each of 1 candidates, totalling 25 fits\n",
      "Fitting 25 folds for each of 1 candidates, totalling 25 fits\n",
      "Fitting 25 folds for each of 1 candidates, totalling 25 fits\n",
      "Fitting 25 folds for each of 1 candidates, totalling 25 fits\n",
      "Fitting 25 folds for each of 1 candidates, totalling 25 fits\n"
     ]
    },
    {
     "name": "stderr",
     "output_type": "stream",
     "text": [
      "C:\\Users\\Karolina\\.conda\\envs\\Licencjat\\Lib\\site-packages\\skopt\\optimizer\\optimizer.py:449: UserWarning: The objective has been evaluated at this point before.\n",
      "  warnings.warn(\"The objective has been evaluated \"\n"
     ]
    },
    {
     "name": "stdout",
     "output_type": "stream",
     "text": [
      "Fitting 25 folds for each of 1 candidates, totalling 25 fits\n",
      "Fitting 25 folds for each of 1 candidates, totalling 25 fits\n",
      "Fitting 25 folds for each of 1 candidates, totalling 25 fits\n",
      "Fitting 25 folds for each of 1 candidates, totalling 25 fits\n",
      "Fitting 25 folds for each of 1 candidates, totalling 25 fits\n",
      "Fitting 25 folds for each of 1 candidates, totalling 25 fits\n"
     ]
    },
    {
     "name": "stderr",
     "output_type": "stream",
     "text": [
      "\r\n",
      " 50%|█████████████████████████████████████████▌                                         | 3/6 [27:18<27:08, 542.88s/it]"
     ]
    },
    {
     "name": "stdout",
     "output_type": "stream",
     "text": [
      "0.6984126984126984\n",
      "OrderedDict([('bootstrap', True), ('max_depth', 80), ('max_features', 'auto'), ('min_samples_leaf', 20), ('min_samples_split', 20), ('n_estimators', 900)])\n",
      "Fitting 25 folds for each of 1 candidates, totalling 25 fits\n",
      "Fitting 25 folds for each of 1 candidates, totalling 25 fits\n",
      "Fitting 25 folds for each of 1 candidates, totalling 25 fits\n",
      "Fitting 25 folds for each of 1 candidates, totalling 25 fits\n",
      "Fitting 25 folds for each of 1 candidates, totalling 25 fits\n",
      "Fitting 25 folds for each of 1 candidates, totalling 25 fits\n",
      "Fitting 25 folds for each of 1 candidates, totalling 25 fits\n",
      "Fitting 25 folds for each of 1 candidates, totalling 25 fits\n",
      "Fitting 25 folds for each of 1 candidates, totalling 25 fits\n",
      "Fitting 25 folds for each of 1 candidates, totalling 25 fits\n",
      "Fitting 25 folds for each of 1 candidates, totalling 25 fits\n",
      "Fitting 25 folds for each of 1 candidates, totalling 25 fits\n",
      "Fitting 25 folds for each of 1 candidates, totalling 25 fits\n",
      "Fitting 25 folds for each of 1 candidates, totalling 25 fits\n",
      "Fitting 25 folds for each of 1 candidates, totalling 25 fits\n",
      "Fitting 25 folds for each of 1 candidates, totalling 25 fits\n",
      "Fitting 25 folds for each of 1 candidates, totalling 25 fits\n",
      "Fitting 25 folds for each of 1 candidates, totalling 25 fits\n",
      "Fitting 25 folds for each of 1 candidates, totalling 25 fits\n",
      "Fitting 25 folds for each of 1 candidates, totalling 25 fits\n",
      "Fitting 25 folds for each of 1 candidates, totalling 25 fits\n",
      "Fitting 25 folds for each of 1 candidates, totalling 25 fits\n",
      "Fitting 25 folds for each of 1 candidates, totalling 25 fits\n",
      "Fitting 25 folds for each of 1 candidates, totalling 25 fits\n",
      "Fitting 25 folds for each of 1 candidates, totalling 25 fits\n",
      "Fitting 25 folds for each of 1 candidates, totalling 25 fits\n",
      "Fitting 25 folds for each of 1 candidates, totalling 25 fits\n",
      "Fitting 25 folds for each of 1 candidates, totalling 25 fits\n",
      "Fitting 25 folds for each of 1 candidates, totalling 25 fits\n",
      "Fitting 25 folds for each of 1 candidates, totalling 25 fits\n",
      "Fitting 25 folds for each of 1 candidates, totalling 25 fits\n",
      "Fitting 25 folds for each of 1 candidates, totalling 25 fits\n",
      "Fitting 25 folds for each of 1 candidates, totalling 25 fits\n",
      "Fitting 25 folds for each of 1 candidates, totalling 25 fits\n",
      "Fitting 25 folds for each of 1 candidates, totalling 25 fits\n",
      "Fitting 25 folds for each of 1 candidates, totalling 25 fits\n",
      "Fitting 25 folds for each of 1 candidates, totalling 25 fits\n",
      "Fitting 25 folds for each of 1 candidates, totalling 25 fits\n",
      "Fitting 25 folds for each of 1 candidates, totalling 25 fits\n",
      "Fitting 25 folds for each of 1 candidates, totalling 25 fits\n",
      "Fitting 25 folds for each of 1 candidates, totalling 25 fits\n",
      "Fitting 25 folds for each of 1 candidates, totalling 25 fits\n",
      "Fitting 25 folds for each of 1 candidates, totalling 25 fits\n",
      "Fitting 25 folds for each of 1 candidates, totalling 25 fits\n",
      "Fitting 25 folds for each of 1 candidates, totalling 25 fits\n",
      "Fitting 25 folds for each of 1 candidates, totalling 25 fits\n",
      "Fitting 25 folds for each of 1 candidates, totalling 25 fits\n",
      "Fitting 25 folds for each of 1 candidates, totalling 25 fits\n",
      "Fitting 25 folds for each of 1 candidates, totalling 25 fits\n",
      "Fitting 25 folds for each of 1 candidates, totalling 25 fits\n"
     ]
    },
    {
     "name": "stderr",
     "output_type": "stream",
     "text": [
      "\r\n",
      " 67%|███████████████████████████████████████████████████████▎                           | 4/6 [43:55<24:04, 722.46s/it]"
     ]
    },
    {
     "name": "stdout",
     "output_type": "stream",
     "text": [
      "0.6988635840809754\n",
      "OrderedDict([('bootstrap', True), ('max_depth', 40), ('max_features', 'log2'), ('min_samples_leaf', 24), ('min_samples_split', 30), ('n_estimators', 200)])\n",
      "Fitting 25 folds for each of 1 candidates, totalling 25 fits\n",
      "Fitting 25 folds for each of 1 candidates, totalling 25 fits\n",
      "Fitting 25 folds for each of 1 candidates, totalling 25 fits\n",
      "Fitting 25 folds for each of 1 candidates, totalling 25 fits\n",
      "Fitting 25 folds for each of 1 candidates, totalling 25 fits\n",
      "Fitting 25 folds for each of 1 candidates, totalling 25 fits\n",
      "Fitting 25 folds for each of 1 candidates, totalling 25 fits\n",
      "Fitting 25 folds for each of 1 candidates, totalling 25 fits\n",
      "Fitting 25 folds for each of 1 candidates, totalling 25 fits\n",
      "Fitting 25 folds for each of 1 candidates, totalling 25 fits\n",
      "Fitting 25 folds for each of 1 candidates, totalling 25 fits\n",
      "Fitting 25 folds for each of 1 candidates, totalling 25 fits\n",
      "Fitting 25 folds for each of 1 candidates, totalling 25 fits\n",
      "Fitting 25 folds for each of 1 candidates, totalling 25 fits\n",
      "Fitting 25 folds for each of 1 candidates, totalling 25 fits\n",
      "Fitting 25 folds for each of 1 candidates, totalling 25 fits\n",
      "Fitting 25 folds for each of 1 candidates, totalling 25 fits\n",
      "Fitting 25 folds for each of 1 candidates, totalling 25 fits\n",
      "Fitting 25 folds for each of 1 candidates, totalling 25 fits\n",
      "Fitting 25 folds for each of 1 candidates, totalling 25 fits\n",
      "Fitting 25 folds for each of 1 candidates, totalling 25 fits\n",
      "Fitting 25 folds for each of 1 candidates, totalling 25 fits\n",
      "Fitting 25 folds for each of 1 candidates, totalling 25 fits\n",
      "Fitting 25 folds for each of 1 candidates, totalling 25 fits\n",
      "Fitting 25 folds for each of 1 candidates, totalling 25 fits\n",
      "Fitting 25 folds for each of 1 candidates, totalling 25 fits\n",
      "Fitting 25 folds for each of 1 candidates, totalling 25 fits\n",
      "Fitting 25 folds for each of 1 candidates, totalling 25 fits\n",
      "Fitting 25 folds for each of 1 candidates, totalling 25 fits\n",
      "Fitting 25 folds for each of 1 candidates, totalling 25 fits\n",
      "Fitting 25 folds for each of 1 candidates, totalling 25 fits\n",
      "Fitting 25 folds for each of 1 candidates, totalling 25 fits\n",
      "Fitting 25 folds for each of 1 candidates, totalling 25 fits\n",
      "Fitting 25 folds for each of 1 candidates, totalling 25 fits\n",
      "Fitting 25 folds for each of 1 candidates, totalling 25 fits\n",
      "Fitting 25 folds for each of 1 candidates, totalling 25 fits\n",
      "Fitting 25 folds for each of 1 candidates, totalling 25 fits\n",
      "Fitting 25 folds for each of 1 candidates, totalling 25 fits\n",
      "Fitting 25 folds for each of 1 candidates, totalling 25 fits\n",
      "Fitting 25 folds for each of 1 candidates, totalling 25 fits\n",
      "Fitting 25 folds for each of 1 candidates, totalling 25 fits\n",
      "Fitting 25 folds for each of 1 candidates, totalling 25 fits\n",
      "Fitting 25 folds for each of 1 candidates, totalling 25 fits\n"
     ]
    },
    {
     "name": "stderr",
     "output_type": "stream",
     "text": [
      "C:\\Users\\Karolina\\.conda\\envs\\Licencjat\\Lib\\site-packages\\skopt\\optimizer\\optimizer.py:449: UserWarning: The objective has been evaluated at this point before.\n",
      "  warnings.warn(\"The objective has been evaluated \"\n"
     ]
    },
    {
     "name": "stdout",
     "output_type": "stream",
     "text": [
      "Fitting 25 folds for each of 1 candidates, totalling 25 fits\n",
      "Fitting 25 folds for each of 1 candidates, totalling 25 fits\n",
      "Fitting 25 folds for each of 1 candidates, totalling 25 fits\n",
      "Fitting 25 folds for each of 1 candidates, totalling 25 fits\n",
      "Fitting 25 folds for each of 1 candidates, totalling 25 fits\n",
      "Fitting 25 folds for each of 1 candidates, totalling 25 fits\n",
      "Fitting 25 folds for each of 1 candidates, totalling 25 fits\n"
     ]
    },
    {
     "name": "stderr",
     "output_type": "stream",
     "text": [
      "\r\n",
      " 83%|█████████████████████████████████████████████████████████████████████▏             | 5/6 [51:17<10:21, 621.18s/it]"
     ]
    },
    {
     "name": "stdout",
     "output_type": "stream",
     "text": [
      "0.69396518671881\n",
      "OrderedDict([('bootstrap', True), ('max_depth', 20), ('max_features', 'auto'), ('min_samples_leaf', 20), ('min_samples_split', 25), ('n_estimators', 200)])\n",
      "Fitting 25 folds for each of 1 candidates, totalling 25 fits\n",
      "Fitting 25 folds for each of 1 candidates, totalling 25 fits\n",
      "Fitting 25 folds for each of 1 candidates, totalling 25 fits\n",
      "Fitting 25 folds for each of 1 candidates, totalling 25 fits\n",
      "Fitting 25 folds for each of 1 candidates, totalling 25 fits\n",
      "Fitting 25 folds for each of 1 candidates, totalling 25 fits\n",
      "Fitting 25 folds for each of 1 candidates, totalling 25 fits\n",
      "Fitting 25 folds for each of 1 candidates, totalling 25 fits\n",
      "Fitting 25 folds for each of 1 candidates, totalling 25 fits\n",
      "Fitting 25 folds for each of 1 candidates, totalling 25 fits\n",
      "Fitting 25 folds for each of 1 candidates, totalling 25 fits\n",
      "Fitting 25 folds for each of 1 candidates, totalling 25 fits\n",
      "Fitting 25 folds for each of 1 candidates, totalling 25 fits\n",
      "Fitting 25 folds for each of 1 candidates, totalling 25 fits\n",
      "Fitting 25 folds for each of 1 candidates, totalling 25 fits\n",
      "Fitting 25 folds for each of 1 candidates, totalling 25 fits\n",
      "Fitting 25 folds for each of 1 candidates, totalling 25 fits\n",
      "Fitting 25 folds for each of 1 candidates, totalling 25 fits\n",
      "Fitting 25 folds for each of 1 candidates, totalling 25 fits\n",
      "Fitting 25 folds for each of 1 candidates, totalling 25 fits\n",
      "Fitting 25 folds for each of 1 candidates, totalling 25 fits\n",
      "Fitting 25 folds for each of 1 candidates, totalling 25 fits\n",
      "Fitting 25 folds for each of 1 candidates, totalling 25 fits\n",
      "Fitting 25 folds for each of 1 candidates, totalling 25 fits\n",
      "Fitting 25 folds for each of 1 candidates, totalling 25 fits\n",
      "Fitting 25 folds for each of 1 candidates, totalling 25 fits\n",
      "Fitting 25 folds for each of 1 candidates, totalling 25 fits\n",
      "Fitting 25 folds for each of 1 candidates, totalling 25 fits\n",
      "Fitting 25 folds for each of 1 candidates, totalling 25 fits\n",
      "Fitting 25 folds for each of 1 candidates, totalling 25 fits\n",
      "Fitting 25 folds for each of 1 candidates, totalling 25 fits\n",
      "Fitting 25 folds for each of 1 candidates, totalling 25 fits\n",
      "Fitting 25 folds for each of 1 candidates, totalling 25 fits\n",
      "Fitting 25 folds for each of 1 candidates, totalling 25 fits\n",
      "Fitting 25 folds for each of 1 candidates, totalling 25 fits\n",
      "Fitting 25 folds for each of 1 candidates, totalling 25 fits\n",
      "Fitting 25 folds for each of 1 candidates, totalling 25 fits\n",
      "Fitting 25 folds for each of 1 candidates, totalling 25 fits\n",
      "Fitting 25 folds for each of 1 candidates, totalling 25 fits\n",
      "Fitting 25 folds for each of 1 candidates, totalling 25 fits\n",
      "Fitting 25 folds for each of 1 candidates, totalling 25 fits\n",
      "Fitting 25 folds for each of 1 candidates, totalling 25 fits\n",
      "Fitting 25 folds for each of 1 candidates, totalling 25 fits\n",
      "Fitting 25 folds for each of 1 candidates, totalling 25 fits\n",
      "Fitting 25 folds for each of 1 candidates, totalling 25 fits\n",
      "Fitting 25 folds for each of 1 candidates, totalling 25 fits\n",
      "Fitting 25 folds for each of 1 candidates, totalling 25 fits\n",
      "Fitting 25 folds for each of 1 candidates, totalling 25 fits\n",
      "Fitting 25 folds for each of 1 candidates, totalling 25 fits\n",
      "Fitting 25 folds for each of 1 candidates, totalling 25 fits\n"
     ]
    },
    {
     "name": "stderr",
     "output_type": "stream",
     "text": [
      "100%|█████████████████████████████████████████████████████████████████████████████████| 6/6 [1:00:45<00:00, 607.66s/it]"
     ]
    },
    {
     "name": "stdout",
     "output_type": "stream",
     "text": [
      "0.695423663829461\n",
      "OrderedDict([('bootstrap', True), ('max_depth', 70), ('max_features', 'sqrt'), ('min_samples_leaf', 24), ('min_samples_split', 5), ('n_estimators', 600)])\n"
     ]
    },
    {
     "name": "stderr",
     "output_type": "stream",
     "text": [
      "\n"
     ]
    }
   ],
   "source": [
    "from sklearn.model_selection import RepeatedStratifiedKFold\n",
    "from sklearn.model_selection import cross_val_score\n",
    "from skopt import BayesSearchCV\n",
    "from sklearn.svm import SVC\n",
    "from tqdm import tqdm\n",
    "\n",
    "# Split X and y into train and test\n",
    "#X_train, X_test, y_train, y_test = train_test_split(X_Cols, Y_Cols, train_size = 0.65)\n",
    "\n",
    "# Random Forest\n",
    "n_estimators = list(range(100, 1000, 100))\n",
    "\n",
    "max_features = ['auto', 'sqrt', None, 'log2']\n",
    "\n",
    "max_depth = list(range(10, 100, 10))\n",
    "max_depth.append(None)\n",
    "\n",
    "min_samples_split = [5, 10, 15, 20, 25, 30]\n",
    "\n",
    "min_samples_leaf = [7, 12, 14, 16 ,20, 24]\n",
    "\n",
    "bootstrap = [True, False]\n",
    "\n",
    "random_grid = {'n_estimators': n_estimators,\n",
    "               'max_features': max_features,\n",
    "               'max_depth': max_depth,\n",
    "               'min_samples_split': min_samples_split,\n",
    "               'min_samples_leaf': min_samples_leaf,\n",
    "               'bootstrap': bootstrap}\n",
    "\n",
    "for i in tqdm(random_grid):\n",
    "    # define evaluation\n",
    "    cv_rf = RepeatedStratifiedKFold(n_splits=5, n_repeats=5)\n",
    "    # define the search\n",
    "    search_rf = BayesSearchCV(estimator=RandomForestClassifier(), search_spaces=random_grid, n_jobs=-1, cv=cv_rf, verbose = 100)\n",
    "    # perform the search\n",
    "    search_rf.fit(X_train, y_train)\n",
    "    # report the best result\n",
    "    print(search_rf.best_score_)\n",
    "    print(search_rf.best_params_)"
   ]
  },
  {
   "cell_type": "markdown",
   "id": "afca438e",
   "metadata": {},
   "source": [
    "0.7001487615980371\n",
    "OrderedDict([('bootstrap', True), ('max_depth', 50), ('max_features', 'log2'), ('min_samples_leaf', 16), ('min_samples_split', 25), ('n_estimators', 600)])\n",
    "0.6959297599877311\n",
    "OrderedDict([('bootstrap', True), ('max_depth', 80), ('max_features', 'log2'), ('min_samples_leaf', 24), ('min_samples_split', 30), ('n_estimators', 600)])\n",
    "0.6984126984126984\n",
    "OrderedDict([('bootstrap', True), ('max_depth', 80), ('max_features', 'auto'), ('min_samples_leaf', 20), ('min_samples_split', 20), ('n_estimators', 900)])\n",
    "0.6988635840809754\n",
    "OrderedDict([('bootstrap', True), ('max_depth', 40), ('max_features', 'log2'), ('min_samples_leaf', 24), ('min_samples_split', 30), ('n_estimators', 200)])\n",
    "0.69396518671881\n",
    "OrderedDict([('bootstrap', True), ('max_depth', 20), ('max_features', 'auto'), ('min_samples_leaf', 20), ('min_samples_split', 25), ('n_estimators', 200)])\n",
    "0.695423663829461\n",
    "OrderedDict([('bootstrap', True), ('max_depth', 70), ('max_features', 'sqrt'), ('min_samples_leaf', 24), ('min_samples_split', 5), ('n_estimators', 600)])"
   ]
  },
  {
   "cell_type": "code",
   "execution_count": null,
   "id": "7982c6da",
   "metadata": {},
   "outputs": [],
   "source": []
  },
  {
   "cell_type": "code",
   "execution_count": null,
   "id": "33dd0285",
   "metadata": {},
   "outputs": [],
   "source": []
  },
  {
   "cell_type": "code",
   "execution_count": null,
   "id": "9804643b",
   "metadata": {},
   "outputs": [],
   "source": []
  },
  {
   "cell_type": "code",
   "execution_count": 20,
   "id": "48155535",
   "metadata": {},
   "outputs": [
    {
     "data": {
      "text/plain": [
       "{'n_estimators': 350,\n",
       " 'min_samples_split': 30,\n",
       " 'min_samples_leaf': 24,\n",
       " 'max_features': 'sqrt',\n",
       " 'max_depth': 10,\n",
       " 'bootstrap': True}"
      ]
     },
     "execution_count": 20,
     "metadata": {},
     "output_type": "execute_result"
    }
   ],
   "source": [
    "rf_random.best_params_"
   ]
  },
  {
   "cell_type": "code",
   "execution_count": 22,
   "id": "6884ab1e",
   "metadata": {},
   "outputs": [
    {
     "name": "stdout",
     "output_type": "stream",
     "text": [
      "Correct Prediction (%):  68.57798165137615\n"
     ]
    },
    {
     "data": {
      "text/html": [
       "<div>\n",
       "<style scoped>\n",
       "    .dataframe tbody tr th:only-of-type {\n",
       "        vertical-align: middle;\n",
       "    }\n",
       "\n",
       "    .dataframe tbody tr th {\n",
       "        vertical-align: top;\n",
       "    }\n",
       "\n",
       "    .dataframe thead th {\n",
       "        text-align: right;\n",
       "    }\n",
       "</style>\n",
       "<table border=\"1\" class=\"dataframe\">\n",
       "  <thead>\n",
       "    <tr style=\"text-align: right;\">\n",
       "      <th></th>\n",
       "      <th>precision</th>\n",
       "      <th>recall</th>\n",
       "      <th>f1-score</th>\n",
       "      <th>support</th>\n",
       "    </tr>\n",
       "  </thead>\n",
       "  <tbody>\n",
       "    <tr>\n",
       "      <th>Down Day</th>\n",
       "      <td>0.665049</td>\n",
       "      <td>0.668293</td>\n",
       "      <td>0.666667</td>\n",
       "      <td>205.00000</td>\n",
       "    </tr>\n",
       "    <tr>\n",
       "      <th>Up Day</th>\n",
       "      <td>0.704348</td>\n",
       "      <td>0.701299</td>\n",
       "      <td>0.702820</td>\n",
       "      <td>231.00000</td>\n",
       "    </tr>\n",
       "    <tr>\n",
       "      <th>accuracy</th>\n",
       "      <td>0.685780</td>\n",
       "      <td>0.685780</td>\n",
       "      <td>0.685780</td>\n",
       "      <td>0.68578</td>\n",
       "    </tr>\n",
       "    <tr>\n",
       "      <th>macro avg</th>\n",
       "      <td>0.684698</td>\n",
       "      <td>0.684796</td>\n",
       "      <td>0.684743</td>\n",
       "      <td>436.00000</td>\n",
       "    </tr>\n",
       "    <tr>\n",
       "      <th>weighted avg</th>\n",
       "      <td>0.685870</td>\n",
       "      <td>0.685780</td>\n",
       "      <td>0.685821</td>\n",
       "      <td>436.00000</td>\n",
       "    </tr>\n",
       "  </tbody>\n",
       "</table>\n",
       "</div>"
      ],
      "text/plain": [
       "              precision    recall  f1-score    support\n",
       "Down Day       0.665049  0.668293  0.666667  205.00000\n",
       "Up Day         0.704348  0.701299  0.702820  231.00000\n",
       "accuracy       0.685780  0.685780  0.685780    0.68578\n",
       "macro avg      0.684698  0.684796  0.684743  436.00000\n",
       "weighted avg   0.685870  0.685780  0.685821  436.00000"
      ]
     },
     "metadata": {},
     "output_type": "display_data"
    },
    {
     "name": "stdout",
     "output_type": "stream",
     "text": [
      "\n",
      "\n"
     ]
    },
    {
     "ename": "NameError",
     "evalue": "name 'rand_frst_clf' is not defined",
     "output_type": "error",
     "traceback": [
      "\u001b[1;31m---------------------------------------------------------------------------\u001b[0m",
      "\u001b[1;31mNameError\u001b[0m                                 Traceback (most recent call last)",
      "Input \u001b[1;32mIn [22]\u001b[0m, in \u001b[0;36m<cell line: 22>\u001b[1;34m()\u001b[0m\n\u001b[0;32m     18\u001b[0m \u001b[38;5;28mprint\u001b[39m(\u001b[38;5;124m'\u001b[39m\u001b[38;5;130;01m\\n\u001b[39;00m\u001b[38;5;124m'\u001b[39m)\n\u001b[0;32m     20\u001b[0m \u001b[38;5;66;03m# FEATURE IMPORTANCE\u001b[39;00m\n\u001b[1;32m---> 22\u001b[0m feature_imp \u001b[38;5;241m=\u001b[39m pd\u001b[38;5;241m.\u001b[39mSeries(\u001b[43mrand_frst_clf\u001b[49m\u001b[38;5;241m.\u001b[39mfeature_importances_, index\u001b[38;5;241m=\u001b[39mX_Cols\u001b[38;5;241m.\u001b[39mcolumns)\u001b[38;5;241m.\u001b[39msort_values(ascending\u001b[38;5;241m=\u001b[39m\u001b[38;5;28;01mFalse\u001b[39;00m)\n\u001b[0;32m     23\u001b[0m display(feature_imp)\n",
      "\u001b[1;31mNameError\u001b[0m: name 'rand_frst_clf' is not defined"
     ]
    }
   ],
   "source": [
    "y_pred = rf_random.predict(X_test)\n",
    "# ACCURACY\n",
    "\n",
    "# Once the predictions have been made, then grab the accuracy score.\n",
    "print('Correct Prediction (%): ', accuracy_score(y_test, rf_random.predict(X_test), normalize = True) * 100.0)\n",
    "\n",
    "# CLASSIFICATION REPORT\n",
    "\n",
    "# Traget names\n",
    "target_names = ['Down Day', 'Up Day']\n",
    "\n",
    "# Build a classifcation report\n",
    "report = classification_report(y_true = y_test, y_pred = y_pred, target_names = target_names, output_dict = True)\n",
    "\n",
    "# Add it to a dataframe, transpose it for readability\n",
    "report_df = pd.DataFrame(report).transpose()\n",
    "display(report_df)\n",
    "print('\\n')\n",
    "\n",
    "# FEATURE IMPORTANCE\n",
    "\n",
    "feature_imp = pd.Series(rand_frst_clf.feature_importances_, index=X_Cols.columns).sort_values(ascending=False)\n",
    "display(feature_imp)"
   ]
  },
  {
   "cell_type": "markdown",
   "id": "b8227f3f",
   "metadata": {},
   "source": [
    "## Inne"
   ]
  },
  {
   "cell_type": "code",
   "execution_count": null,
   "id": "a360dc46",
   "metadata": {
    "scrolled": true
   },
   "outputs": [],
   "source": [
    "# Define the traget names\n",
    "target_names = ['Up', 'Down']\n",
    "\n",
    "# Build a classifcation report\n",
    "report = classification_report(y_true = y_test, y_pred = y_pred,target_names = target_names, output_dict = True)\n",
    "\n",
    "# Add it to a data frame, transpose it for readability.\n",
    "report_df = pd.DataFrame(report).transpose()\n",
    "report_df"
   ]
  },
  {
   "cell_type": "code",
   "execution_count": null,
   "id": "703d690c",
   "metadata": {},
   "outputs": [],
   "source": [
    "from sklearn.metrics import confusion_matrix, plot_confusion_matrix\n",
    "\n",
    "# Create confusion matrix\n",
    "rf_matrix = confusion_matrix(y_test, y_pred)\n",
    "\n",
    "true_negatives = rf_matrix[0][0]\n",
    "false_negatives = rf_matrix[1][0]\n",
    "true_positives = rf_matrix[1][1]\n",
    "false_positives = rf_matrix[0][1]\n",
    "\n",
    "# Calculate the same metrics up above\n",
    "accuracy = (true_negatives + true_positives) / (true_negatives + true_positives + false_negatives + false_positives)\n",
    "percision = true_positives / (true_positives + false_positives)\n",
    "recall = true_positives / (true_positives + false_negatives)\n",
    "specificity = true_negatives / (true_negatives + false_positives)\n",
    "\n",
    "print('Accuracy: {}'.format(float(accuracy)))\n",
    "print('Percision: {}'.format(float(percision)))\n",
    "print('Recall: {}'.format(float(recall)))\n",
    "print('Specificity: {}'.format(float(specificity)))\n",
    "\n",
    "# Create graph to plot confusion matrix (%)\n",
    "disp = plot_confusion_matrix(rand_frst_clf, X_test, y_test, display_labels = ['Down Day', 'Up Day'], normalize = 'true', cmap=plt.cm.Blues)\n",
    "disp.ax_.set_title('Confusion Matrix - Normalized')\n",
    "plt.show()"
   ]
  },
  {
   "cell_type": "code",
   "execution_count": null,
   "id": "0cae54e8",
   "metadata": {},
   "outputs": [],
   "source": [
    "feature_imp = pd.Series(rand_frst_clf.feature_importances_, index=X_Cols.columns).sort_values(ascending = False)\n",
    "feature_imp"
   ]
  },
  {
   "cell_type": "code",
   "execution_count": null,
   "id": "5383728a",
   "metadata": {},
   "outputs": [],
   "source": [
    "# Create an ROC Curve plot\n",
    "rfc_disp = plot_roc_curve(rand_frst_clf, X_test, y_test, alpha = 0.9)\n",
    "plt.show()"
   ]
  },
  {
   "cell_type": "code",
   "execution_count": null,
   "id": "2f43d609",
   "metadata": {},
   "outputs": [],
   "source": [
    "# Print out-of-bag error score\n",
    "print('Random Forest Out-Of-Bag Error Score: {}'.format(rand_frst_clf.oob_score_))"
   ]
  },
  {
   "cell_type": "code",
   "execution_count": null,
   "id": "b14dad1b",
   "metadata": {},
   "outputs": [],
   "source": []
  },
  {
   "cell_type": "code",
   "execution_count": null,
   "id": "57aee8b9",
   "metadata": {},
   "outputs": [],
   "source": [
    "# ROC CURVE\n",
    "\n",
    "fig, ax = plt.subplots()\n",
    "\n",
    "# Create an ROC Curve plot\n",
    "rfc_disp = plot_roc_curve(rand_frst_clf, X_test, y_test, alpha = 0.8, name='ROC Curve', lw=1, ax=ax)\n",
    "\n",
    "# Add our Chance Line\n",
    "ax.plot([0, 1], [0, 1], linestyle='--', lw=2, color='r', label='Chance', alpha=.8)\n",
    "\n",
    "ax.set(xlim=[-0.05, 1.05], ylim=[-0.05, 1.05], title=\"ROC Curve Random Forest\")\n",
    "\n",
    "# Add the legend to the plot\n",
    "ax.legend(loc=\"lower right\")\n",
    "\n",
    "plt.show()"
   ]
  }
 ],
 "metadata": {
  "kernelspec": {
   "display_name": "Python 3 (ipykernel)",
   "language": "python",
   "name": "python3"
  },
  "language_info": {
   "codemirror_mode": {
    "name": "ipython",
    "version": 3
   },
   "file_extension": ".py",
   "mimetype": "text/x-python",
   "name": "python",
   "nbconvert_exporter": "python",
   "pygments_lexer": "ipython3",
   "version": "3.10.11"
  }
 },
 "nbformat": 4,
 "nbformat_minor": 5
}
